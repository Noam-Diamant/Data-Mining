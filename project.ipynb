{
 "cells": [
  {
   "cell_type": "markdown",
   "metadata": {},
   "source": [
    "# Data Mining  Project\n",
    "## Amir Ilan 322868662\n",
    "## Noam Diamant 208520262"
   ]
  },
  {
   "cell_type": "markdown",
   "metadata": {},
   "source": [
    "import libraries"
   ]
  },
  {
   "cell_type": "code",
   "execution_count": 597,
   "metadata": {},
   "outputs": [],
   "source": [
    "import numpy as np\n",
    "import pandas as pd\n",
    "import matplotlib.pyplot as plt\n",
    "import seaborn as sns\n",
    "# for inline plots in jupyter\n",
    "%matplotlib inline \n",
    "sns.set(color_codes=True) # settings for seaborn plotting style\n",
    "sns.set(rc={'figure.figsize':(5,5)}) # settings for seaborn plot sizes"
   ]
  },
  {
   "cell_type": "markdown",
   "metadata": {},
   "source": [
    "Load the data into a DataFrame from a CSV file."
   ]
  },
  {
   "cell_type": "code",
   "execution_count": 598,
   "metadata": {},
   "outputs": [],
   "source": [
    "df = pd.read_csv(\"./hotels_train.csv\")"
   ]
  },
  {
   "cell_type": "markdown",
   "metadata": {},
   "source": [
    "## Show the data information, e.g., types of attributes, the attributes values etc."
   ]
  },
  {
   "cell_type": "markdown",
   "metadata": {},
   "source": [
    "First, we will examine the data to determine the data type of each column and the overall shape of the dataset."
   ]
  },
  {
   "cell_type": "code",
   "execution_count": 599,
   "metadata": {},
   "outputs": [
    {
     "name": "stdout",
     "output_type": "stream",
     "text": [
      "The shape of the data is:  (27213, 18)\n",
      "The number of hotel hotel reservations are:  27213\n",
      "The number of hotel attributes are:  18\n"
     ]
    }
   ],
   "source": [
    "print(\"The shape of the data is: \", df.shape)\n",
    "print(\"The number of hotel hotel reservations are: \", df.shape[0])\n",
    "print(\"The number of hotel attributes are: \", df.shape[1])"
   ]
  },
  {
   "cell_type": "markdown",
   "metadata": {},
   "source": [
    "Show the types of the attributes"
   ]
  },
  {
   "cell_type": "code",
   "execution_count": 600,
   "metadata": {},
   "outputs": [
    {
     "name": "stdout",
     "output_type": "stream",
     "text": [
      "<class 'pandas.core.frame.DataFrame'>\n",
      "RangeIndex: 27213 entries, 0 to 27212\n",
      "Data columns (total 18 columns):\n",
      " #   Column               Non-Null Count  Dtype  \n",
      "---  ------               --------------  -----  \n",
      " 0   ID                   27213 non-null  object \n",
      " 1   weekend_nights       27213 non-null  int64  \n",
      " 2   week_nights          27213 non-null  int64  \n",
      " 3   room_type            27213 non-null  object \n",
      " 4   board_type           19045 non-null  object \n",
      " 5   n_adults             27213 non-null  int64  \n",
      " 6   n_less_12            27213 non-null  int64  \n",
      " 7   n_more_12            27213 non-null  int64  \n",
      " 8   booked_tour          27213 non-null  int64  \n",
      " 9   n_requests           27213 non-null  int64  \n",
      " 10  lead_time            26794 non-null  float64\n",
      " 11  purchase_type        22366 non-null  object \n",
      " 12  n_p_cacellation      27213 non-null  int64  \n",
      " 13  n_p_not_cacellation  27213 non-null  int64  \n",
      " 14  repeated             27213 non-null  int64  \n",
      " 15  price                23808 non-null  float64\n",
      " 16  date                 27213 non-null  object \n",
      " 17  is_canceled          27213 non-null  int64  \n",
      "dtypes: float64(2), int64(11), object(5)\n",
      "memory usage: 3.7+ MB\n"
     ]
    }
   ],
   "source": [
    "df.info()"
   ]
  },
  {
   "cell_type": "markdown",
   "metadata": {},
   "source": [
    "Show the attributes values"
   ]
  },
  {
   "cell_type": "code",
   "execution_count": 601,
   "metadata": {},
   "outputs": [
    {
     "data": {
      "text/html": [
       "<div>\n",
       "<style scoped>\n",
       "    .dataframe tbody tr th:only-of-type {\n",
       "        vertical-align: middle;\n",
       "    }\n",
       "\n",
       "    .dataframe tbody tr th {\n",
       "        vertical-align: top;\n",
       "    }\n",
       "\n",
       "    .dataframe thead th {\n",
       "        text-align: right;\n",
       "    }\n",
       "</style>\n",
       "<table border=\"1\" class=\"dataframe\">\n",
       "  <thead>\n",
       "    <tr style=\"text-align: right;\">\n",
       "      <th></th>\n",
       "      <th>ID</th>\n",
       "      <th>weekend_nights</th>\n",
       "      <th>week_nights</th>\n",
       "      <th>room_type</th>\n",
       "      <th>board_type</th>\n",
       "      <th>n_adults</th>\n",
       "      <th>n_less_12</th>\n",
       "      <th>n_more_12</th>\n",
       "      <th>booked_tour</th>\n",
       "      <th>n_requests</th>\n",
       "      <th>lead_time</th>\n",
       "      <th>purchase_type</th>\n",
       "      <th>n_p_cacellation</th>\n",
       "      <th>n_p_not_cacellation</th>\n",
       "      <th>repeated</th>\n",
       "      <th>price</th>\n",
       "      <th>date</th>\n",
       "      <th>is_canceled</th>\n",
       "    </tr>\n",
       "  </thead>\n",
       "  <tbody>\n",
       "    <tr>\n",
       "      <th>0</th>\n",
       "      <td>INN09588</td>\n",
       "      <td>1</td>\n",
       "      <td>5</td>\n",
       "      <td>Room_Type 1</td>\n",
       "      <td>half board</td>\n",
       "      <td>2</td>\n",
       "      <td>0</td>\n",
       "      <td>0</td>\n",
       "      <td>0</td>\n",
       "      <td>2</td>\n",
       "      <td>34.0</td>\n",
       "      <td>Online</td>\n",
       "      <td>0</td>\n",
       "      <td>0</td>\n",
       "      <td>0</td>\n",
       "      <td>108.4</td>\n",
       "      <td>11/28/2018</td>\n",
       "      <td>0</td>\n",
       "    </tr>\n",
       "    <tr>\n",
       "      <th>1</th>\n",
       "      <td>INN07691</td>\n",
       "      <td>0</td>\n",
       "      <td>3</td>\n",
       "      <td>Room_Type 1</td>\n",
       "      <td>NaN</td>\n",
       "      <td>2</td>\n",
       "      <td>0</td>\n",
       "      <td>0</td>\n",
       "      <td>0</td>\n",
       "      <td>0</td>\n",
       "      <td>365.0</td>\n",
       "      <td>NaN</td>\n",
       "      <td>0</td>\n",
       "      <td>0</td>\n",
       "      <td>0</td>\n",
       "      <td>NaN</td>\n",
       "      <td>11/03/2018</td>\n",
       "      <td>1</td>\n",
       "    </tr>\n",
       "    <tr>\n",
       "      <th>2</th>\n",
       "      <td>INN32192</td>\n",
       "      <td>0</td>\n",
       "      <td>2</td>\n",
       "      <td>Room_Type 4</td>\n",
       "      <td>half board</td>\n",
       "      <td>1</td>\n",
       "      <td>0</td>\n",
       "      <td>0</td>\n",
       "      <td>0</td>\n",
       "      <td>1</td>\n",
       "      <td>148.0</td>\n",
       "      <td>Online</td>\n",
       "      <td>0</td>\n",
       "      <td>0</td>\n",
       "      <td>0</td>\n",
       "      <td>137.3</td>\n",
       "      <td>05/06/2018</td>\n",
       "      <td>0</td>\n",
       "    </tr>\n",
       "    <tr>\n",
       "      <th>3</th>\n",
       "      <td>INN32218</td>\n",
       "      <td>1</td>\n",
       "      <td>2</td>\n",
       "      <td>Room_Type 1</td>\n",
       "      <td>NaN</td>\n",
       "      <td>2</td>\n",
       "      <td>0</td>\n",
       "      <td>0</td>\n",
       "      <td>0</td>\n",
       "      <td>0</td>\n",
       "      <td>502.0</td>\n",
       "      <td>Offline</td>\n",
       "      <td>0</td>\n",
       "      <td>0</td>\n",
       "      <td>0</td>\n",
       "      <td>127.0</td>\n",
       "      <td>9/26/2018</td>\n",
       "      <td>1</td>\n",
       "    </tr>\n",
       "    <tr>\n",
       "      <th>4</th>\n",
       "      <td>INN02994</td>\n",
       "      <td>1</td>\n",
       "      <td>3</td>\n",
       "      <td>Room_Type 4</td>\n",
       "      <td>half board</td>\n",
       "      <td>2</td>\n",
       "      <td>0</td>\n",
       "      <td>1</td>\n",
       "      <td>0</td>\n",
       "      <td>2</td>\n",
       "      <td>32.0</td>\n",
       "      <td>Offline</td>\n",
       "      <td>0</td>\n",
       "      <td>0</td>\n",
       "      <td>0</td>\n",
       "      <td>110.0</td>\n",
       "      <td>10/19/2017</td>\n",
       "      <td>0</td>\n",
       "    </tr>\n",
       "  </tbody>\n",
       "</table>\n",
       "</div>"
      ],
      "text/plain": [
       "         ID  weekend_nights  week_nights    room_type  board_type  n_adults  \\\n",
       "0  INN09588               1            5  Room_Type 1  half board         2   \n",
       "1  INN07691               0            3  Room_Type 1         NaN         2   \n",
       "2  INN32192               0            2  Room_Type 4  half board         1   \n",
       "3  INN32218               1            2  Room_Type 1         NaN         2   \n",
       "4  INN02994               1            3  Room_Type 4  half board         2   \n",
       "\n",
       "   n_less_12  n_more_12  booked_tour  n_requests  lead_time purchase_type  \\\n",
       "0          0          0            0           2       34.0        Online   \n",
       "1          0          0            0           0      365.0           NaN   \n",
       "2          0          0            0           1      148.0        Online   \n",
       "3          0          0            0           0      502.0       Offline   \n",
       "4          0          1            0           2       32.0       Offline   \n",
       "\n",
       "   n_p_cacellation  n_p_not_cacellation  repeated  price        date  \\\n",
       "0                0                    0         0  108.4  11/28/2018   \n",
       "1                0                    0         0    NaN  11/03/2018   \n",
       "2                0                    0         0  137.3  05/06/2018   \n",
       "3                0                    0         0  127.0   9/26/2018   \n",
       "4                0                    0         0  110.0  10/19/2017   \n",
       "\n",
       "   is_canceled  \n",
       "0            0  \n",
       "1            1  \n",
       "2            0  \n",
       "3            1  \n",
       "4            0  "
      ]
     },
     "execution_count": 601,
     "metadata": {},
     "output_type": "execute_result"
    }
   ],
   "source": [
    "df.head()"
   ]
  },
  {
   "cell_type": "markdown",
   "metadata": {},
   "source": [
    "From the information above, we can identify missing values, attribute data types, and any mismatched data types.\n",
    "\n",
    "Missing values: Present in the attributes 'board_type', 'lead_time', 'purchase_type', 'price'.\n",
    "Unmatched data type: The 'room_type' attribute has an object data type, but we will remove the 'Room_type' string for convenience.    "
   ]
  },
  {
   "cell_type": "markdown",
   "metadata": {},
   "source": [
    "Generates summary statistics for all columns in a the dataFrame, including both numerical and categorical data."
   ]
  },
  {
   "cell_type": "code",
   "execution_count": 602,
   "metadata": {},
   "outputs": [
    {
     "data": {
      "text/html": [
       "<div>\n",
       "<style scoped>\n",
       "    .dataframe tbody tr th:only-of-type {\n",
       "        vertical-align: middle;\n",
       "    }\n",
       "\n",
       "    .dataframe tbody tr th {\n",
       "        vertical-align: top;\n",
       "    }\n",
       "\n",
       "    .dataframe thead th {\n",
       "        text-align: right;\n",
       "    }\n",
       "</style>\n",
       "<table border=\"1\" class=\"dataframe\">\n",
       "  <thead>\n",
       "    <tr style=\"text-align: right;\">\n",
       "      <th></th>\n",
       "      <th>ID</th>\n",
       "      <th>weekend_nights</th>\n",
       "      <th>week_nights</th>\n",
       "      <th>room_type</th>\n",
       "      <th>board_type</th>\n",
       "      <th>n_adults</th>\n",
       "      <th>n_less_12</th>\n",
       "      <th>n_more_12</th>\n",
       "      <th>booked_tour</th>\n",
       "      <th>n_requests</th>\n",
       "      <th>lead_time</th>\n",
       "      <th>purchase_type</th>\n",
       "      <th>n_p_cacellation</th>\n",
       "      <th>n_p_not_cacellation</th>\n",
       "      <th>repeated</th>\n",
       "      <th>price</th>\n",
       "      <th>date</th>\n",
       "      <th>is_canceled</th>\n",
       "    </tr>\n",
       "  </thead>\n",
       "  <tbody>\n",
       "    <tr>\n",
       "      <th>count</th>\n",
       "      <td>27213</td>\n",
       "      <td>27213.000000</td>\n",
       "      <td>27213.000000</td>\n",
       "      <td>27213</td>\n",
       "      <td>19045</td>\n",
       "      <td>27213.000000</td>\n",
       "      <td>27213.000000</td>\n",
       "      <td>27213.000000</td>\n",
       "      <td>27213.000000</td>\n",
       "      <td>27213.000000</td>\n",
       "      <td>26794.000000</td>\n",
       "      <td>22366</td>\n",
       "      <td>27213.000000</td>\n",
       "      <td>27213.000000</td>\n",
       "      <td>27213.000000</td>\n",
       "      <td>23808.000000</td>\n",
       "      <td>27213</td>\n",
       "      <td>27213.000000</td>\n",
       "    </tr>\n",
       "    <tr>\n",
       "      <th>unique</th>\n",
       "      <td>27213</td>\n",
       "      <td>NaN</td>\n",
       "      <td>NaN</td>\n",
       "      <td>7</td>\n",
       "      <td>4</td>\n",
       "      <td>NaN</td>\n",
       "      <td>NaN</td>\n",
       "      <td>NaN</td>\n",
       "      <td>NaN</td>\n",
       "      <td>NaN</td>\n",
       "      <td>NaN</td>\n",
       "      <td>5</td>\n",
       "      <td>NaN</td>\n",
       "      <td>NaN</td>\n",
       "      <td>NaN</td>\n",
       "      <td>NaN</td>\n",
       "      <td>553</td>\n",
       "      <td>NaN</td>\n",
       "    </tr>\n",
       "    <tr>\n",
       "      <th>top</th>\n",
       "      <td>INN09588</td>\n",
       "      <td>NaN</td>\n",
       "      <td>NaN</td>\n",
       "      <td>Room_Type 1</td>\n",
       "      <td>half board</td>\n",
       "      <td>NaN</td>\n",
       "      <td>NaN</td>\n",
       "      <td>NaN</td>\n",
       "      <td>NaN</td>\n",
       "      <td>NaN</td>\n",
       "      <td>NaN</td>\n",
       "      <td>Online</td>\n",
       "      <td>NaN</td>\n",
       "      <td>NaN</td>\n",
       "      <td>NaN</td>\n",
       "      <td>NaN</td>\n",
       "      <td>10/13/2018</td>\n",
       "      <td>NaN</td>\n",
       "    </tr>\n",
       "    <tr>\n",
       "      <th>freq</th>\n",
       "      <td>1</td>\n",
       "      <td>NaN</td>\n",
       "      <td>NaN</td>\n",
       "      <td>21084</td>\n",
       "      <td>14591</td>\n",
       "      <td>NaN</td>\n",
       "      <td>NaN</td>\n",
       "      <td>NaN</td>\n",
       "      <td>NaN</td>\n",
       "      <td>NaN</td>\n",
       "      <td>NaN</td>\n",
       "      <td>14306</td>\n",
       "      <td>NaN</td>\n",
       "      <td>NaN</td>\n",
       "      <td>NaN</td>\n",
       "      <td>NaN</td>\n",
       "      <td>188</td>\n",
       "      <td>NaN</td>\n",
       "    </tr>\n",
       "    <tr>\n",
       "      <th>mean</th>\n",
       "      <td>NaN</td>\n",
       "      <td>0.812810</td>\n",
       "      <td>2.197332</td>\n",
       "      <td>NaN</td>\n",
       "      <td>NaN</td>\n",
       "      <td>1.845221</td>\n",
       "      <td>0.052989</td>\n",
       "      <td>0.053357</td>\n",
       "      <td>0.031750</td>\n",
       "      <td>0.621100</td>\n",
       "      <td>102.952377</td>\n",
       "      <td>NaN</td>\n",
       "      <td>0.021975</td>\n",
       "      <td>0.155404</td>\n",
       "      <td>0.026421</td>\n",
       "      <td>123.455494</td>\n",
       "      <td>NaN</td>\n",
       "      <td>0.327674</td>\n",
       "    </tr>\n",
       "    <tr>\n",
       "      <th>std</th>\n",
       "      <td>NaN</td>\n",
       "      <td>0.869317</td>\n",
       "      <td>1.403576</td>\n",
       "      <td>NaN</td>\n",
       "      <td>NaN</td>\n",
       "      <td>0.519715</td>\n",
       "      <td>0.266150</td>\n",
       "      <td>0.268688</td>\n",
       "      <td>0.175336</td>\n",
       "      <td>0.785642</td>\n",
       "      <td>103.498942</td>\n",
       "      <td>NaN</td>\n",
       "      <td>0.346697</td>\n",
       "      <td>1.728693</td>\n",
       "      <td>0.160387</td>\n",
       "      <td>35.136566</td>\n",
       "      <td>NaN</td>\n",
       "      <td>0.469374</td>\n",
       "    </tr>\n",
       "    <tr>\n",
       "      <th>min</th>\n",
       "      <td>NaN</td>\n",
       "      <td>0.000000</td>\n",
       "      <td>0.000000</td>\n",
       "      <td>NaN</td>\n",
       "      <td>NaN</td>\n",
       "      <td>0.000000</td>\n",
       "      <td>0.000000</td>\n",
       "      <td>0.000000</td>\n",
       "      <td>0.000000</td>\n",
       "      <td>0.000000</td>\n",
       "      <td>0.000000</td>\n",
       "      <td>NaN</td>\n",
       "      <td>0.000000</td>\n",
       "      <td>0.000000</td>\n",
       "      <td>0.000000</td>\n",
       "      <td>20.000000</td>\n",
       "      <td>NaN</td>\n",
       "      <td>0.000000</td>\n",
       "    </tr>\n",
       "    <tr>\n",
       "      <th>25%</th>\n",
       "      <td>NaN</td>\n",
       "      <td>0.000000</td>\n",
       "      <td>1.000000</td>\n",
       "      <td>NaN</td>\n",
       "      <td>NaN</td>\n",
       "      <td>2.000000</td>\n",
       "      <td>0.000000</td>\n",
       "      <td>0.000000</td>\n",
       "      <td>0.000000</td>\n",
       "      <td>0.000000</td>\n",
       "      <td>21.000000</td>\n",
       "      <td>NaN</td>\n",
       "      <td>0.000000</td>\n",
       "      <td>0.000000</td>\n",
       "      <td>0.000000</td>\n",
       "      <td>100.300000</td>\n",
       "      <td>NaN</td>\n",
       "      <td>0.000000</td>\n",
       "    </tr>\n",
       "    <tr>\n",
       "      <th>50%</th>\n",
       "      <td>NaN</td>\n",
       "      <td>1.000000</td>\n",
       "      <td>2.000000</td>\n",
       "      <td>NaN</td>\n",
       "      <td>NaN</td>\n",
       "      <td>2.000000</td>\n",
       "      <td>0.000000</td>\n",
       "      <td>0.000000</td>\n",
       "      <td>0.000000</td>\n",
       "      <td>0.000000</td>\n",
       "      <td>69.000000</td>\n",
       "      <td>NaN</td>\n",
       "      <td>0.000000</td>\n",
       "      <td>0.000000</td>\n",
       "      <td>0.000000</td>\n",
       "      <td>119.450000</td>\n",
       "      <td>NaN</td>\n",
       "      <td>0.000000</td>\n",
       "    </tr>\n",
       "    <tr>\n",
       "      <th>75%</th>\n",
       "      <td>NaN</td>\n",
       "      <td>2.000000</td>\n",
       "      <td>3.000000</td>\n",
       "      <td>NaN</td>\n",
       "      <td>NaN</td>\n",
       "      <td>2.000000</td>\n",
       "      <td>0.000000</td>\n",
       "      <td>0.000000</td>\n",
       "      <td>0.000000</td>\n",
       "      <td>1.000000</td>\n",
       "      <td>153.000000</td>\n",
       "      <td>NaN</td>\n",
       "      <td>0.000000</td>\n",
       "      <td>0.000000</td>\n",
       "      <td>0.000000</td>\n",
       "      <td>140.000000</td>\n",
       "      <td>NaN</td>\n",
       "      <td>1.000000</td>\n",
       "    </tr>\n",
       "    <tr>\n",
       "      <th>max</th>\n",
       "      <td>NaN</td>\n",
       "      <td>7.000000</td>\n",
       "      <td>17.000000</td>\n",
       "      <td>NaN</td>\n",
       "      <td>NaN</td>\n",
       "      <td>4.000000</td>\n",
       "      <td>6.000000</td>\n",
       "      <td>4.000000</td>\n",
       "      <td>1.000000</td>\n",
       "      <td>5.000000</td>\n",
       "      <td>532.000000</td>\n",
       "      <td>NaN</td>\n",
       "      <td>13.000000</td>\n",
       "      <td>57.000000</td>\n",
       "      <td>1.000000</td>\n",
       "      <td>560.000000</td>\n",
       "      <td>NaN</td>\n",
       "      <td>1.000000</td>\n",
       "    </tr>\n",
       "  </tbody>\n",
       "</table>\n",
       "</div>"
      ],
      "text/plain": [
       "              ID  weekend_nights   week_nights    room_type  board_type  \\\n",
       "count      27213    27213.000000  27213.000000        27213       19045   \n",
       "unique     27213             NaN           NaN            7           4   \n",
       "top     INN09588             NaN           NaN  Room_Type 1  half board   \n",
       "freq           1             NaN           NaN        21084       14591   \n",
       "mean         NaN        0.812810      2.197332          NaN         NaN   \n",
       "std          NaN        0.869317      1.403576          NaN         NaN   \n",
       "min          NaN        0.000000      0.000000          NaN         NaN   \n",
       "25%          NaN        0.000000      1.000000          NaN         NaN   \n",
       "50%          NaN        1.000000      2.000000          NaN         NaN   \n",
       "75%          NaN        2.000000      3.000000          NaN         NaN   \n",
       "max          NaN        7.000000     17.000000          NaN         NaN   \n",
       "\n",
       "            n_adults     n_less_12     n_more_12   booked_tour    n_requests  \\\n",
       "count   27213.000000  27213.000000  27213.000000  27213.000000  27213.000000   \n",
       "unique           NaN           NaN           NaN           NaN           NaN   \n",
       "top              NaN           NaN           NaN           NaN           NaN   \n",
       "freq             NaN           NaN           NaN           NaN           NaN   \n",
       "mean        1.845221      0.052989      0.053357      0.031750      0.621100   \n",
       "std         0.519715      0.266150      0.268688      0.175336      0.785642   \n",
       "min         0.000000      0.000000      0.000000      0.000000      0.000000   \n",
       "25%         2.000000      0.000000      0.000000      0.000000      0.000000   \n",
       "50%         2.000000      0.000000      0.000000      0.000000      0.000000   \n",
       "75%         2.000000      0.000000      0.000000      0.000000      1.000000   \n",
       "max         4.000000      6.000000      4.000000      1.000000      5.000000   \n",
       "\n",
       "           lead_time purchase_type  n_p_cacellation  n_p_not_cacellation  \\\n",
       "count   26794.000000         22366     27213.000000         27213.000000   \n",
       "unique           NaN             5              NaN                  NaN   \n",
       "top              NaN        Online              NaN                  NaN   \n",
       "freq             NaN         14306              NaN                  NaN   \n",
       "mean      102.952377           NaN         0.021975             0.155404   \n",
       "std       103.498942           NaN         0.346697             1.728693   \n",
       "min         0.000000           NaN         0.000000             0.000000   \n",
       "25%        21.000000           NaN         0.000000             0.000000   \n",
       "50%        69.000000           NaN         0.000000             0.000000   \n",
       "75%       153.000000           NaN         0.000000             0.000000   \n",
       "max       532.000000           NaN        13.000000            57.000000   \n",
       "\n",
       "            repeated         price        date   is_canceled  \n",
       "count   27213.000000  23808.000000       27213  27213.000000  \n",
       "unique           NaN           NaN         553           NaN  \n",
       "top              NaN           NaN  10/13/2018           NaN  \n",
       "freq             NaN           NaN         188           NaN  \n",
       "mean        0.026421    123.455494         NaN      0.327674  \n",
       "std         0.160387     35.136566         NaN      0.469374  \n",
       "min         0.000000     20.000000         NaN      0.000000  \n",
       "25%         0.000000    100.300000         NaN      0.000000  \n",
       "50%         0.000000    119.450000         NaN      0.000000  \n",
       "75%         0.000000    140.000000         NaN      1.000000  \n",
       "max         1.000000    560.000000         NaN      1.000000  "
      ]
     },
     "execution_count": 602,
     "metadata": {},
     "output_type": "execute_result"
    }
   ],
   "source": [
    "df.describe(include='all')"
   ]
  },
  {
   "cell_type": "markdown",
   "metadata": {},
   "source": [
    "remove the 'room_type' string from 'room_type' colmun for convenience:"
   ]
  },
  {
   "cell_type": "code",
   "execution_count": 603,
   "metadata": {},
   "outputs": [
    {
     "data": {
      "text/plain": [
       "dtype('int32')"
      ]
     },
     "execution_count": 603,
     "metadata": {},
     "output_type": "execute_result"
    }
   ],
   "source": [
    "# Use str.extract() to extract numeric values\n",
    "df['room_type'] = df['room_type'].str.extract('(\\d+\\.?\\d*)', expand = True).astype(int)\n",
    "\n",
    "# Verify the data type after conversion\n",
    "df[\"room_type\"].dtype\n"
   ]
  },
  {
   "cell_type": "markdown",
   "metadata": {},
   "source": [
    "view the change"
   ]
  },
  {
   "cell_type": "code",
   "execution_count": 604,
   "metadata": {},
   "outputs": [
    {
     "name": "stdout",
     "output_type": "stream",
     "text": [
      "<class 'pandas.core.frame.DataFrame'>\n",
      "RangeIndex: 27213 entries, 0 to 27212\n",
      "Data columns (total 18 columns):\n",
      " #   Column               Non-Null Count  Dtype  \n",
      "---  ------               --------------  -----  \n",
      " 0   ID                   27213 non-null  object \n",
      " 1   weekend_nights       27213 non-null  int64  \n",
      " 2   week_nights          27213 non-null  int64  \n",
      " 3   room_type            27213 non-null  int32  \n",
      " 4   board_type           19045 non-null  object \n",
      " 5   n_adults             27213 non-null  int64  \n",
      " 6   n_less_12            27213 non-null  int64  \n",
      " 7   n_more_12            27213 non-null  int64  \n",
      " 8   booked_tour          27213 non-null  int64  \n",
      " 9   n_requests           27213 non-null  int64  \n",
      " 10  lead_time            26794 non-null  float64\n",
      " 11  purchase_type        22366 non-null  object \n",
      " 12  n_p_cacellation      27213 non-null  int64  \n",
      " 13  n_p_not_cacellation  27213 non-null  int64  \n",
      " 14  repeated             27213 non-null  int64  \n",
      " 15  price                23808 non-null  float64\n",
      " 16  date                 27213 non-null  object \n",
      " 17  is_canceled          27213 non-null  int64  \n",
      "dtypes: float64(2), int32(1), int64(11), object(4)\n",
      "memory usage: 3.6+ MB\n"
     ]
    }
   ],
   "source": [
    "df.info()"
   ]
  },
  {
   "cell_type": "markdown",
   "metadata": {},
   "source": [
    "#### During the data analysis we noticed that in 27 places in the data there is an illogical date. We changed the nonsensical date everywhere it appeared to the date closest to it.\n",
    "Split 'date' column to day, month, year:"
   ]
  },
  {
   "cell_type": "code",
   "execution_count": 605,
   "metadata": {},
   "outputs": [],
   "source": [
    "df.loc[df['date'] == '2018-2-29', 'date'] = '03/01/2018'\n",
    "# Split the \"date\" column into separate columns\n",
    "df[[\"month\", \"day\", \"year\"]] = df[\"date\"].str.split(\"/\", expand=True)\n",
    "df[\"month\"] = df[\"month\"].str.extract('(\\d+\\.?\\d*)', expand = True).astype(int)\n",
    "df[\"day\"] = df[\"day\"].str.extract('(\\d+\\.?\\d*)', expand = True).astype(int)\n",
    "df[\"year\"] = df[\"year\"].str.extract('(\\d+\\.?\\d*)', expand = True).astype(int)"
   ]
  },
  {
   "cell_type": "code",
   "execution_count": 606,
   "metadata": {},
   "outputs": [
    {
     "name": "stdout",
     "output_type": "stream",
     "text": [
      "<class 'pandas.core.frame.DataFrame'>\n",
      "RangeIndex: 27213 entries, 0 to 27212\n",
      "Data columns (total 21 columns):\n",
      " #   Column               Non-Null Count  Dtype  \n",
      "---  ------               --------------  -----  \n",
      " 0   ID                   27213 non-null  object \n",
      " 1   weekend_nights       27213 non-null  int64  \n",
      " 2   week_nights          27213 non-null  int64  \n",
      " 3   room_type            27213 non-null  int32  \n",
      " 4   board_type           19045 non-null  object \n",
      " 5   n_adults             27213 non-null  int64  \n",
      " 6   n_less_12            27213 non-null  int64  \n",
      " 7   n_more_12            27213 non-null  int64  \n",
      " 8   booked_tour          27213 non-null  int64  \n",
      " 9   n_requests           27213 non-null  int64  \n",
      " 10  lead_time            26794 non-null  float64\n",
      " 11  purchase_type        22366 non-null  object \n",
      " 12  n_p_cacellation      27213 non-null  int64  \n",
      " 13  n_p_not_cacellation  27213 non-null  int64  \n",
      " 14  repeated             27213 non-null  int64  \n",
      " 15  price                23808 non-null  float64\n",
      " 16  date                 27213 non-null  object \n",
      " 17  is_canceled          27213 non-null  int64  \n",
      " 18  month                27213 non-null  int32  \n",
      " 19  day                  27213 non-null  int32  \n",
      " 20  year                 27213 non-null  int32  \n",
      "dtypes: float64(2), int32(4), int64(11), object(4)\n",
      "memory usage: 3.9+ MB\n"
     ]
    }
   ],
   "source": [
    "df.info()"
   ]
  },
  {
   "cell_type": "code",
   "execution_count": 607,
   "metadata": {},
   "outputs": [
    {
     "data": {
      "text/html": [
       "<div>\n",
       "<style scoped>\n",
       "    .dataframe tbody tr th:only-of-type {\n",
       "        vertical-align: middle;\n",
       "    }\n",
       "\n",
       "    .dataframe tbody tr th {\n",
       "        vertical-align: top;\n",
       "    }\n",
       "\n",
       "    .dataframe thead th {\n",
       "        text-align: right;\n",
       "    }\n",
       "</style>\n",
       "<table border=\"1\" class=\"dataframe\">\n",
       "  <thead>\n",
       "    <tr style=\"text-align: right;\">\n",
       "      <th></th>\n",
       "      <th>ID</th>\n",
       "      <th>weekend_nights</th>\n",
       "      <th>week_nights</th>\n",
       "      <th>room_type</th>\n",
       "      <th>board_type</th>\n",
       "      <th>n_adults</th>\n",
       "      <th>n_less_12</th>\n",
       "      <th>n_more_12</th>\n",
       "      <th>booked_tour</th>\n",
       "      <th>n_requests</th>\n",
       "      <th>...</th>\n",
       "      <th>purchase_type</th>\n",
       "      <th>n_p_cacellation</th>\n",
       "      <th>n_p_not_cacellation</th>\n",
       "      <th>repeated</th>\n",
       "      <th>price</th>\n",
       "      <th>date</th>\n",
       "      <th>is_canceled</th>\n",
       "      <th>month</th>\n",
       "      <th>day</th>\n",
       "      <th>year</th>\n",
       "    </tr>\n",
       "  </thead>\n",
       "  <tbody>\n",
       "    <tr>\n",
       "      <th>0</th>\n",
       "      <td>INN09588</td>\n",
       "      <td>1</td>\n",
       "      <td>5</td>\n",
       "      <td>1</td>\n",
       "      <td>half board</td>\n",
       "      <td>2</td>\n",
       "      <td>0</td>\n",
       "      <td>0</td>\n",
       "      <td>0</td>\n",
       "      <td>2</td>\n",
       "      <td>...</td>\n",
       "      <td>Online</td>\n",
       "      <td>0</td>\n",
       "      <td>0</td>\n",
       "      <td>0</td>\n",
       "      <td>108.4</td>\n",
       "      <td>11/28/2018</td>\n",
       "      <td>0</td>\n",
       "      <td>11</td>\n",
       "      <td>28</td>\n",
       "      <td>2018</td>\n",
       "    </tr>\n",
       "    <tr>\n",
       "      <th>1</th>\n",
       "      <td>INN07691</td>\n",
       "      <td>0</td>\n",
       "      <td>3</td>\n",
       "      <td>1</td>\n",
       "      <td>NaN</td>\n",
       "      <td>2</td>\n",
       "      <td>0</td>\n",
       "      <td>0</td>\n",
       "      <td>0</td>\n",
       "      <td>0</td>\n",
       "      <td>...</td>\n",
       "      <td>NaN</td>\n",
       "      <td>0</td>\n",
       "      <td>0</td>\n",
       "      <td>0</td>\n",
       "      <td>NaN</td>\n",
       "      <td>11/03/2018</td>\n",
       "      <td>1</td>\n",
       "      <td>11</td>\n",
       "      <td>3</td>\n",
       "      <td>2018</td>\n",
       "    </tr>\n",
       "    <tr>\n",
       "      <th>2</th>\n",
       "      <td>INN32192</td>\n",
       "      <td>0</td>\n",
       "      <td>2</td>\n",
       "      <td>4</td>\n",
       "      <td>half board</td>\n",
       "      <td>1</td>\n",
       "      <td>0</td>\n",
       "      <td>0</td>\n",
       "      <td>0</td>\n",
       "      <td>1</td>\n",
       "      <td>...</td>\n",
       "      <td>Online</td>\n",
       "      <td>0</td>\n",
       "      <td>0</td>\n",
       "      <td>0</td>\n",
       "      <td>137.3</td>\n",
       "      <td>05/06/2018</td>\n",
       "      <td>0</td>\n",
       "      <td>5</td>\n",
       "      <td>6</td>\n",
       "      <td>2018</td>\n",
       "    </tr>\n",
       "    <tr>\n",
       "      <th>3</th>\n",
       "      <td>INN32218</td>\n",
       "      <td>1</td>\n",
       "      <td>2</td>\n",
       "      <td>1</td>\n",
       "      <td>NaN</td>\n",
       "      <td>2</td>\n",
       "      <td>0</td>\n",
       "      <td>0</td>\n",
       "      <td>0</td>\n",
       "      <td>0</td>\n",
       "      <td>...</td>\n",
       "      <td>Offline</td>\n",
       "      <td>0</td>\n",
       "      <td>0</td>\n",
       "      <td>0</td>\n",
       "      <td>127.0</td>\n",
       "      <td>9/26/2018</td>\n",
       "      <td>1</td>\n",
       "      <td>9</td>\n",
       "      <td>26</td>\n",
       "      <td>2018</td>\n",
       "    </tr>\n",
       "    <tr>\n",
       "      <th>4</th>\n",
       "      <td>INN02994</td>\n",
       "      <td>1</td>\n",
       "      <td>3</td>\n",
       "      <td>4</td>\n",
       "      <td>half board</td>\n",
       "      <td>2</td>\n",
       "      <td>0</td>\n",
       "      <td>1</td>\n",
       "      <td>0</td>\n",
       "      <td>2</td>\n",
       "      <td>...</td>\n",
       "      <td>Offline</td>\n",
       "      <td>0</td>\n",
       "      <td>0</td>\n",
       "      <td>0</td>\n",
       "      <td>110.0</td>\n",
       "      <td>10/19/2017</td>\n",
       "      <td>0</td>\n",
       "      <td>10</td>\n",
       "      <td>19</td>\n",
       "      <td>2017</td>\n",
       "    </tr>\n",
       "  </tbody>\n",
       "</table>\n",
       "<p>5 rows × 21 columns</p>\n",
       "</div>"
      ],
      "text/plain": [
       "         ID  weekend_nights  week_nights  room_type  board_type  n_adults  \\\n",
       "0  INN09588               1            5          1  half board         2   \n",
       "1  INN07691               0            3          1         NaN         2   \n",
       "2  INN32192               0            2          4  half board         1   \n",
       "3  INN32218               1            2          1         NaN         2   \n",
       "4  INN02994               1            3          4  half board         2   \n",
       "\n",
       "   n_less_12  n_more_12  booked_tour  n_requests  ...  purchase_type  \\\n",
       "0          0          0            0           2  ...         Online   \n",
       "1          0          0            0           0  ...            NaN   \n",
       "2          0          0            0           1  ...         Online   \n",
       "3          0          0            0           0  ...        Offline   \n",
       "4          0          1            0           2  ...        Offline   \n",
       "\n",
       "  n_p_cacellation  n_p_not_cacellation  repeated  price        date  \\\n",
       "0               0                    0         0  108.4  11/28/2018   \n",
       "1               0                    0         0    NaN  11/03/2018   \n",
       "2               0                    0         0  137.3  05/06/2018   \n",
       "3               0                    0         0  127.0   9/26/2018   \n",
       "4               0                    0         0  110.0  10/19/2017   \n",
       "\n",
       "  is_canceled  month  day  year  \n",
       "0           0     11   28  2018  \n",
       "1           1     11    3  2018  \n",
       "2           0      5    6  2018  \n",
       "3           1      9   26  2018  \n",
       "4           0     10   19  2017  \n",
       "\n",
       "[5 rows x 21 columns]"
      ]
     },
     "execution_count": 607,
     "metadata": {},
     "output_type": "execute_result"
    }
   ],
   "source": [
    "df.head()"
   ]
  },
  {
   "cell_type": "code",
   "execution_count": 608,
   "metadata": {},
   "outputs": [
    {
     "data": {
      "text/html": [
       "<div>\n",
       "<style scoped>\n",
       "    .dataframe tbody tr th:only-of-type {\n",
       "        vertical-align: middle;\n",
       "    }\n",
       "\n",
       "    .dataframe tbody tr th {\n",
       "        vertical-align: top;\n",
       "    }\n",
       "\n",
       "    .dataframe thead th {\n",
       "        text-align: right;\n",
       "    }\n",
       "</style>\n",
       "<table border=\"1\" class=\"dataframe\">\n",
       "  <thead>\n",
       "    <tr style=\"text-align: right;\">\n",
       "      <th></th>\n",
       "      <th>ID</th>\n",
       "      <th>weekend_nights</th>\n",
       "      <th>week_nights</th>\n",
       "      <th>room_type</th>\n",
       "      <th>board_type</th>\n",
       "      <th>n_adults</th>\n",
       "      <th>n_less_12</th>\n",
       "      <th>n_more_12</th>\n",
       "      <th>booked_tour</th>\n",
       "      <th>n_requests</th>\n",
       "      <th>...</th>\n",
       "      <th>purchase_type</th>\n",
       "      <th>n_p_cacellation</th>\n",
       "      <th>n_p_not_cacellation</th>\n",
       "      <th>repeated</th>\n",
       "      <th>price</th>\n",
       "      <th>date</th>\n",
       "      <th>is_canceled</th>\n",
       "      <th>month</th>\n",
       "      <th>day</th>\n",
       "      <th>year</th>\n",
       "    </tr>\n",
       "  </thead>\n",
       "  <tbody>\n",
       "    <tr>\n",
       "      <th>count</th>\n",
       "      <td>27213</td>\n",
       "      <td>27213.000000</td>\n",
       "      <td>27213.000000</td>\n",
       "      <td>27213.000000</td>\n",
       "      <td>19045</td>\n",
       "      <td>27213.000000</td>\n",
       "      <td>27213.000000</td>\n",
       "      <td>27213.000000</td>\n",
       "      <td>27213.000000</td>\n",
       "      <td>27213.000000</td>\n",
       "      <td>...</td>\n",
       "      <td>22366</td>\n",
       "      <td>27213.000000</td>\n",
       "      <td>27213.000000</td>\n",
       "      <td>27213.000000</td>\n",
       "      <td>23808.000000</td>\n",
       "      <td>27213</td>\n",
       "      <td>27213.000000</td>\n",
       "      <td>27213.000000</td>\n",
       "      <td>27213.000000</td>\n",
       "      <td>27213.000000</td>\n",
       "    </tr>\n",
       "    <tr>\n",
       "      <th>unique</th>\n",
       "      <td>27213</td>\n",
       "      <td>NaN</td>\n",
       "      <td>NaN</td>\n",
       "      <td>NaN</td>\n",
       "      <td>4</td>\n",
       "      <td>NaN</td>\n",
       "      <td>NaN</td>\n",
       "      <td>NaN</td>\n",
       "      <td>NaN</td>\n",
       "      <td>NaN</td>\n",
       "      <td>...</td>\n",
       "      <td>5</td>\n",
       "      <td>NaN</td>\n",
       "      <td>NaN</td>\n",
       "      <td>NaN</td>\n",
       "      <td>NaN</td>\n",
       "      <td>552</td>\n",
       "      <td>NaN</td>\n",
       "      <td>NaN</td>\n",
       "      <td>NaN</td>\n",
       "      <td>NaN</td>\n",
       "    </tr>\n",
       "    <tr>\n",
       "      <th>top</th>\n",
       "      <td>INN09588</td>\n",
       "      <td>NaN</td>\n",
       "      <td>NaN</td>\n",
       "      <td>NaN</td>\n",
       "      <td>half board</td>\n",
       "      <td>NaN</td>\n",
       "      <td>NaN</td>\n",
       "      <td>NaN</td>\n",
       "      <td>NaN</td>\n",
       "      <td>NaN</td>\n",
       "      <td>...</td>\n",
       "      <td>Online</td>\n",
       "      <td>NaN</td>\n",
       "      <td>NaN</td>\n",
       "      <td>NaN</td>\n",
       "      <td>NaN</td>\n",
       "      <td>10/13/2018</td>\n",
       "      <td>NaN</td>\n",
       "      <td>NaN</td>\n",
       "      <td>NaN</td>\n",
       "      <td>NaN</td>\n",
       "    </tr>\n",
       "    <tr>\n",
       "      <th>freq</th>\n",
       "      <td>1</td>\n",
       "      <td>NaN</td>\n",
       "      <td>NaN</td>\n",
       "      <td>NaN</td>\n",
       "      <td>14591</td>\n",
       "      <td>NaN</td>\n",
       "      <td>NaN</td>\n",
       "      <td>NaN</td>\n",
       "      <td>NaN</td>\n",
       "      <td>NaN</td>\n",
       "      <td>...</td>\n",
       "      <td>14306</td>\n",
       "      <td>NaN</td>\n",
       "      <td>NaN</td>\n",
       "      <td>NaN</td>\n",
       "      <td>NaN</td>\n",
       "      <td>188</td>\n",
       "      <td>NaN</td>\n",
       "      <td>NaN</td>\n",
       "      <td>NaN</td>\n",
       "      <td>NaN</td>\n",
       "    </tr>\n",
       "    <tr>\n",
       "      <th>mean</th>\n",
       "      <td>NaN</td>\n",
       "      <td>0.812810</td>\n",
       "      <td>2.197332</td>\n",
       "      <td>1.712637</td>\n",
       "      <td>NaN</td>\n",
       "      <td>1.845221</td>\n",
       "      <td>0.052989</td>\n",
       "      <td>0.053357</td>\n",
       "      <td>0.031750</td>\n",
       "      <td>0.621100</td>\n",
       "      <td>...</td>\n",
       "      <td>NaN</td>\n",
       "      <td>0.021975</td>\n",
       "      <td>0.155404</td>\n",
       "      <td>0.026421</td>\n",
       "      <td>123.455494</td>\n",
       "      <td>NaN</td>\n",
       "      <td>0.327674</td>\n",
       "      <td>7.430456</td>\n",
       "      <td>15.576930</td>\n",
       "      <td>2017.821703</td>\n",
       "    </tr>\n",
       "    <tr>\n",
       "      <th>std</th>\n",
       "      <td>NaN</td>\n",
       "      <td>0.869317</td>\n",
       "      <td>1.403576</td>\n",
       "      <td>1.404446</td>\n",
       "      <td>NaN</td>\n",
       "      <td>0.519715</td>\n",
       "      <td>0.266150</td>\n",
       "      <td>0.268688</td>\n",
       "      <td>0.175336</td>\n",
       "      <td>0.785642</td>\n",
       "      <td>...</td>\n",
       "      <td>NaN</td>\n",
       "      <td>0.346697</td>\n",
       "      <td>1.728693</td>\n",
       "      <td>0.160387</td>\n",
       "      <td>35.136566</td>\n",
       "      <td>NaN</td>\n",
       "      <td>0.469374</td>\n",
       "      <td>3.061317</td>\n",
       "      <td>8.749339</td>\n",
       "      <td>0.383154</td>\n",
       "    </tr>\n",
       "    <tr>\n",
       "      <th>min</th>\n",
       "      <td>NaN</td>\n",
       "      <td>0.000000</td>\n",
       "      <td>0.000000</td>\n",
       "      <td>1.000000</td>\n",
       "      <td>NaN</td>\n",
       "      <td>0.000000</td>\n",
       "      <td>0.000000</td>\n",
       "      <td>0.000000</td>\n",
       "      <td>0.000000</td>\n",
       "      <td>0.000000</td>\n",
       "      <td>...</td>\n",
       "      <td>NaN</td>\n",
       "      <td>0.000000</td>\n",
       "      <td>0.000000</td>\n",
       "      <td>0.000000</td>\n",
       "      <td>20.000000</td>\n",
       "      <td>NaN</td>\n",
       "      <td>0.000000</td>\n",
       "      <td>1.000000</td>\n",
       "      <td>1.000000</td>\n",
       "      <td>2015.000000</td>\n",
       "    </tr>\n",
       "    <tr>\n",
       "      <th>25%</th>\n",
       "      <td>NaN</td>\n",
       "      <td>0.000000</td>\n",
       "      <td>1.000000</td>\n",
       "      <td>1.000000</td>\n",
       "      <td>NaN</td>\n",
       "      <td>2.000000</td>\n",
       "      <td>0.000000</td>\n",
       "      <td>0.000000</td>\n",
       "      <td>0.000000</td>\n",
       "      <td>0.000000</td>\n",
       "      <td>...</td>\n",
       "      <td>NaN</td>\n",
       "      <td>0.000000</td>\n",
       "      <td>0.000000</td>\n",
       "      <td>0.000000</td>\n",
       "      <td>100.300000</td>\n",
       "      <td>NaN</td>\n",
       "      <td>0.000000</td>\n",
       "      <td>5.000000</td>\n",
       "      <td>8.000000</td>\n",
       "      <td>2018.000000</td>\n",
       "    </tr>\n",
       "    <tr>\n",
       "      <th>50%</th>\n",
       "      <td>NaN</td>\n",
       "      <td>1.000000</td>\n",
       "      <td>2.000000</td>\n",
       "      <td>1.000000</td>\n",
       "      <td>NaN</td>\n",
       "      <td>2.000000</td>\n",
       "      <td>0.000000</td>\n",
       "      <td>0.000000</td>\n",
       "      <td>0.000000</td>\n",
       "      <td>0.000000</td>\n",
       "      <td>...</td>\n",
       "      <td>NaN</td>\n",
       "      <td>0.000000</td>\n",
       "      <td>0.000000</td>\n",
       "      <td>0.000000</td>\n",
       "      <td>119.450000</td>\n",
       "      <td>NaN</td>\n",
       "      <td>0.000000</td>\n",
       "      <td>8.000000</td>\n",
       "      <td>16.000000</td>\n",
       "      <td>2018.000000</td>\n",
       "    </tr>\n",
       "    <tr>\n",
       "      <th>75%</th>\n",
       "      <td>NaN</td>\n",
       "      <td>2.000000</td>\n",
       "      <td>3.000000</td>\n",
       "      <td>1.000000</td>\n",
       "      <td>NaN</td>\n",
       "      <td>2.000000</td>\n",
       "      <td>0.000000</td>\n",
       "      <td>0.000000</td>\n",
       "      <td>0.000000</td>\n",
       "      <td>1.000000</td>\n",
       "      <td>...</td>\n",
       "      <td>NaN</td>\n",
       "      <td>0.000000</td>\n",
       "      <td>0.000000</td>\n",
       "      <td>0.000000</td>\n",
       "      <td>140.000000</td>\n",
       "      <td>NaN</td>\n",
       "      <td>1.000000</td>\n",
       "      <td>10.000000</td>\n",
       "      <td>23.000000</td>\n",
       "      <td>2018.000000</td>\n",
       "    </tr>\n",
       "    <tr>\n",
       "      <th>max</th>\n",
       "      <td>NaN</td>\n",
       "      <td>7.000000</td>\n",
       "      <td>17.000000</td>\n",
       "      <td>7.000000</td>\n",
       "      <td>NaN</td>\n",
       "      <td>4.000000</td>\n",
       "      <td>6.000000</td>\n",
       "      <td>4.000000</td>\n",
       "      <td>1.000000</td>\n",
       "      <td>5.000000</td>\n",
       "      <td>...</td>\n",
       "      <td>NaN</td>\n",
       "      <td>13.000000</td>\n",
       "      <td>57.000000</td>\n",
       "      <td>1.000000</td>\n",
       "      <td>560.000000</td>\n",
       "      <td>NaN</td>\n",
       "      <td>1.000000</td>\n",
       "      <td>12.000000</td>\n",
       "      <td>31.000000</td>\n",
       "      <td>2018.000000</td>\n",
       "    </tr>\n",
       "  </tbody>\n",
       "</table>\n",
       "<p>11 rows × 21 columns</p>\n",
       "</div>"
      ],
      "text/plain": [
       "              ID  weekend_nights   week_nights     room_type  board_type  \\\n",
       "count      27213    27213.000000  27213.000000  27213.000000       19045   \n",
       "unique     27213             NaN           NaN           NaN           4   \n",
       "top     INN09588             NaN           NaN           NaN  half board   \n",
       "freq           1             NaN           NaN           NaN       14591   \n",
       "mean         NaN        0.812810      2.197332      1.712637         NaN   \n",
       "std          NaN        0.869317      1.403576      1.404446         NaN   \n",
       "min          NaN        0.000000      0.000000      1.000000         NaN   \n",
       "25%          NaN        0.000000      1.000000      1.000000         NaN   \n",
       "50%          NaN        1.000000      2.000000      1.000000         NaN   \n",
       "75%          NaN        2.000000      3.000000      1.000000         NaN   \n",
       "max          NaN        7.000000     17.000000      7.000000         NaN   \n",
       "\n",
       "            n_adults     n_less_12     n_more_12   booked_tour    n_requests  \\\n",
       "count   27213.000000  27213.000000  27213.000000  27213.000000  27213.000000   \n",
       "unique           NaN           NaN           NaN           NaN           NaN   \n",
       "top              NaN           NaN           NaN           NaN           NaN   \n",
       "freq             NaN           NaN           NaN           NaN           NaN   \n",
       "mean        1.845221      0.052989      0.053357      0.031750      0.621100   \n",
       "std         0.519715      0.266150      0.268688      0.175336      0.785642   \n",
       "min         0.000000      0.000000      0.000000      0.000000      0.000000   \n",
       "25%         2.000000      0.000000      0.000000      0.000000      0.000000   \n",
       "50%         2.000000      0.000000      0.000000      0.000000      0.000000   \n",
       "75%         2.000000      0.000000      0.000000      0.000000      1.000000   \n",
       "max         4.000000      6.000000      4.000000      1.000000      5.000000   \n",
       "\n",
       "        ...  purchase_type n_p_cacellation  n_p_not_cacellation      repeated  \\\n",
       "count   ...          22366    27213.000000         27213.000000  27213.000000   \n",
       "unique  ...              5             NaN                  NaN           NaN   \n",
       "top     ...         Online             NaN                  NaN           NaN   \n",
       "freq    ...          14306             NaN                  NaN           NaN   \n",
       "mean    ...            NaN        0.021975             0.155404      0.026421   \n",
       "std     ...            NaN        0.346697             1.728693      0.160387   \n",
       "min     ...            NaN        0.000000             0.000000      0.000000   \n",
       "25%     ...            NaN        0.000000             0.000000      0.000000   \n",
       "50%     ...            NaN        0.000000             0.000000      0.000000   \n",
       "75%     ...            NaN        0.000000             0.000000      0.000000   \n",
       "max     ...            NaN       13.000000            57.000000      1.000000   \n",
       "\n",
       "               price        date   is_canceled         month           day  \\\n",
       "count   23808.000000       27213  27213.000000  27213.000000  27213.000000   \n",
       "unique           NaN         552           NaN           NaN           NaN   \n",
       "top              NaN  10/13/2018           NaN           NaN           NaN   \n",
       "freq             NaN         188           NaN           NaN           NaN   \n",
       "mean      123.455494         NaN      0.327674      7.430456     15.576930   \n",
       "std        35.136566         NaN      0.469374      3.061317      8.749339   \n",
       "min        20.000000         NaN      0.000000      1.000000      1.000000   \n",
       "25%       100.300000         NaN      0.000000      5.000000      8.000000   \n",
       "50%       119.450000         NaN      0.000000      8.000000     16.000000   \n",
       "75%       140.000000         NaN      1.000000     10.000000     23.000000   \n",
       "max       560.000000         NaN      1.000000     12.000000     31.000000   \n",
       "\n",
       "                year  \n",
       "count   27213.000000  \n",
       "unique           NaN  \n",
       "top              NaN  \n",
       "freq             NaN  \n",
       "mean     2017.821703  \n",
       "std         0.383154  \n",
       "min      2015.000000  \n",
       "25%      2018.000000  \n",
       "50%      2018.000000  \n",
       "75%      2018.000000  \n",
       "max      2018.000000  \n",
       "\n",
       "[11 rows x 21 columns]"
      ]
     },
     "execution_count": 608,
     "metadata": {},
     "output_type": "execute_result"
    }
   ],
   "source": [
    "df.describe(include='all')"
   ]
  },
  {
   "cell_type": "markdown",
   "metadata": {},
   "source": [
    "## Show the data statistics, e.g., distribution, skewness, median and more.\n",
    "### Split to nominal and numerical attributes"
   ]
  },
  {
   "cell_type": "code",
   "execution_count": 609,
   "metadata": {},
   "outputs": [
    {
     "data": {
      "text/plain": [
       "Index(['weekend_nights', 'week_nights', 'room_type', 'n_adults', 'n_less_12',\n",
       "       'n_more_12', 'booked_tour', 'n_requests', 'lead_time',\n",
       "       'n_p_cacellation', 'n_p_not_cacellation', 'repeated', 'price',\n",
       "       'is_canceled', 'month', 'day', 'year'],\n",
       "      dtype='object')"
      ]
     },
     "execution_count": 609,
     "metadata": {},
     "output_type": "execute_result"
    }
   ],
   "source": [
    "numeric_col = df.describe().columns # to get the numeric column\n",
    "numeric_col"
   ]
  },
  {
   "cell_type": "code",
   "execution_count": 610,
   "metadata": {},
   "outputs": [],
   "source": [
    "numeric_data = df[numeric_col]\n",
    "nominal_data = df.drop(numeric_col, axis=1)"
   ]
  },
  {
   "cell_type": "markdown",
   "metadata": {},
   "source": [
    "## Numerical data\n",
    "For numerical data we would like to know the range of values, whether there are outliers, the distribution and other statistics, so first we will draw the histograms."
   ]
  },
  {
   "cell_type": "code",
   "execution_count": 611,
   "metadata": {},
   "outputs": [
    {
     "name": "stderr",
     "output_type": "stream",
     "text": [
      "c:\\Users\\Lenovo\\anaconda3\\Lib\\site-packages\\seaborn\\axisgrid.py:118: UserWarning: The figure layout has changed to tight\n",
      "  self._figure.tight_layout(*args, **kwargs)\n",
      "c:\\Users\\Lenovo\\anaconda3\\Lib\\site-packages\\seaborn\\axisgrid.py:118: UserWarning: The figure layout has changed to tight\n",
      "  self._figure.tight_layout(*args, **kwargs)\n",
      "c:\\Users\\Lenovo\\anaconda3\\Lib\\site-packages\\seaborn\\axisgrid.py:118: UserWarning: The figure layout has changed to tight\n",
      "  self._figure.tight_layout(*args, **kwargs)\n",
      "c:\\Users\\Lenovo\\anaconda3\\Lib\\site-packages\\seaborn\\axisgrid.py:118: UserWarning: The figure layout has changed to tight\n",
      "  self._figure.tight_layout(*args, **kwargs)\n",
      "c:\\Users\\Lenovo\\anaconda3\\Lib\\site-packages\\seaborn\\axisgrid.py:118: UserWarning: The figure layout has changed to tight\n",
      "  self._figure.tight_layout(*args, **kwargs)\n",
      "c:\\Users\\Lenovo\\anaconda3\\Lib\\site-packages\\seaborn\\axisgrid.py:118: UserWarning: The figure layout has changed to tight\n",
      "  self._figure.tight_layout(*args, **kwargs)\n",
      "c:\\Users\\Lenovo\\anaconda3\\Lib\\site-packages\\seaborn\\axisgrid.py:118: UserWarning: The figure layout has changed to tight\n",
      "  self._figure.tight_layout(*args, **kwargs)\n",
      "c:\\Users\\Lenovo\\anaconda3\\Lib\\site-packages\\seaborn\\axisgrid.py:118: UserWarning: The figure layout has changed to tight\n",
      "  self._figure.tight_layout(*args, **kwargs)\n",
      "c:\\Users\\Lenovo\\anaconda3\\Lib\\site-packages\\seaborn\\axisgrid.py:118: UserWarning: The figure layout has changed to tight\n",
      "  self._figure.tight_layout(*args, **kwargs)\n",
      "c:\\Users\\Lenovo\\anaconda3\\Lib\\site-packages\\seaborn\\axisgrid.py:118: UserWarning: The figure layout has changed to tight\n",
      "  self._figure.tight_layout(*args, **kwargs)\n",
      "c:\\Users\\Lenovo\\anaconda3\\Lib\\site-packages\\seaborn\\axisgrid.py:118: UserWarning: The figure layout has changed to tight\n",
      "  self._figure.tight_layout(*args, **kwargs)\n",
      "c:\\Users\\Lenovo\\anaconda3\\Lib\\site-packages\\seaborn\\axisgrid.py:118: UserWarning: The figure layout has changed to tight\n",
      "  self._figure.tight_layout(*args, **kwargs)\n",
      "c:\\Users\\Lenovo\\anaconda3\\Lib\\site-packages\\seaborn\\axisgrid.py:118: UserWarning: The figure layout has changed to tight\n",
      "  self._figure.tight_layout(*args, **kwargs)\n",
      "c:\\Users\\Lenovo\\anaconda3\\Lib\\site-packages\\seaborn\\axisgrid.py:118: UserWarning: The figure layout has changed to tight\n",
      "  self._figure.tight_layout(*args, **kwargs)\n",
      "c:\\Users\\Lenovo\\anaconda3\\Lib\\site-packages\\seaborn\\axisgrid.py:118: UserWarning: The figure layout has changed to tight\n",
      "  self._figure.tight_layout(*args, **kwargs)\n",
      "c:\\Users\\Lenovo\\anaconda3\\Lib\\site-packages\\seaborn\\axisgrid.py:118: UserWarning: The figure layout has changed to tight\n",
      "  self._figure.tight_layout(*args, **kwargs)\n",
      "c:\\Users\\Lenovo\\anaconda3\\Lib\\site-packages\\seaborn\\axisgrid.py:118: UserWarning: The figure layout has changed to tight\n",
      "  self._figure.tight_layout(*args, **kwargs)\n"
     ]
    },
    {
     "data": {
      "image/png": "[encoded data removed]",
      "text/plain": [
       "<Figure size 500x500 with 1 Axes>"
      ]
     },
     "metadata": {},
     "output_type": "display_data"
    },
    {
     "data": {
      "image/png": "[encoded data removed]",
      "text/plain": [
       "<Figure size 500x500 with 1 Axes>"
      ]
     },
     "metadata": {},
     "output_type": "display_data"
    },
    {
     "data": {
      "image/png": "[encoded data removed]",
      "text/plain": [
       "<Figure size 500x500 with 1 Axes>"
      ]
     },
     "metadata": {},
     "output_type": "display_data"
    },
    {
     "data": {
      "image/png": "[encoded data removed]",
      "text/plain": [
       "<Figure size 500x500 with 1 Axes>"
      ]
     },
     "metadata": {},
     "output_type": "display_data"
    },
    {
     "data": {
      "image/png": "[encoded data removed]",
      "text/plain": [
       "<Figure size 500x500 with 1 Axes>"
      ]
     },
     "metadata": {},
     "output_type": "display_data"
    },
    {
     "data": {
      "image/png": "[encoded data removed]",
      "text/plain": [
       "<Figure size 500x500 with 1 Axes>"
      ]
     },
     "metadata": {},
     "output_type": "display_data"
    },
    {
     "data": {
      "image/png": "[encoded data removed]",
      "text/plain": [
       "<Figure size 500x500 with 1 Axes>"
      ]
     },
     "metadata": {},
     "output_type": "display_data"
    },
    {
     "data": {
      "image/png": "[encoded data removed]",
      "text/plain": [
       "<Figure size 500x500 with 1 Axes>"
      ]
     },
     "metadata": {},
     "output_type": "display_data"
    },
    {
     "data": {
      "image/png": "[encoded data removed]",
      "text/plain": [
       "<Figure size 500x500 with 1 Axes>"
      ]
     },
     "metadata": {},
     "output_type": "display_data"
    },
    {
     "data": {
      "image/png": "[encoded data removed]",
      "text/plain": [
       "<Figure size 500x500 with 1 Axes>"
      ]
     },
     "metadata": {},
     "output_type": "display_data"
    },
    {
     "data": {
      "image/png": "[encoded data removed]",
      "text/plain": [
       "<Figure size 500x500 with 1 Axes>"
      ]
     },
     "metadata": {},
     "output_type": "display_data"
    },
    {
     "data": {
      "image/png": "[encoded data removed]",
      "text/plain": [
       "<Figure size 500x500 with 1 Axes>"
      ]
     },
     "metadata": {},
     "output_type": "display_data"
    },
    {
     "data": {
      "image/png": "[encoded data removed]",
      "text/plain": [
       "<Figure size 500x500 with 1 Axes>"
      ]
     },
     "metadata": {},
     "output_type": "display_data"
    },
    {
     "data": {
      "image/png": "[encoded data removed]",
      "text/plain": [
       "<Figure size 500x500 with 1 Axes>"
      ]
     },
     "metadata": {},
     "output_type": "display_data"
    },
    {
     "data": {
      "image/png": "[encoded data removed]",
      "text/plain": [
       "<Figure size 500x500 with 1 Axes>"
      ]
     },
     "metadata": {},
     "output_type": "display_data"
    },
    {
     "data": {
      "image/png": "[encoded data removed]",
      "text/plain": [
       "<Figure size 500x500 with 1 Axes>"
      ]
     },
     "metadata": {},
     "output_type": "display_data"
    },
    {
     "data": {
      "image/png": "[encoded data removed]",
      "text/plain": [
       "<Figure size 500x500 with 1 Axes>"
      ]
     },
     "metadata": {},
     "output_type": "display_data"
    }
   ],
   "source": [
    "for col in numeric_col:\n",
    "    sns.displot(numeric_data[col], bins=20, color='skyblue')"
   ]
  },
  {
   "cell_type": "markdown",
   "metadata": {},
   "source": [
    "From the histograms above it looks like 'price' and 'week_nights' is normal distributed whereas the other attributes are not. Moreover, we can see that 'weekend_nights', 'n_adults', 'n_more_12', 'n_requests', 'room_type', 'Booked_tour', 'n_p_cancellation', 'n_p_not_cancellation', 'repeated', 'month', 'day', 'year' and 'n_less_12' has only few values with importance to the order i.e. it's a categorical ordinal attribute."
   ]
  },
  {
   "cell_type": "markdown",
   "metadata": {},
   "source": [
    "#### Statistic information:\n",
    "Describe function show statistic information for numerical data."
   ]
  },
  {
   "cell_type": "code",
   "execution_count": 612,
   "metadata": {},
   "outputs": [
    {
     "data": {
      "text/html": [
       "<div>\n",
       "<style scoped>\n",
       "    .dataframe tbody tr th:only-of-type {\n",
       "        vertical-align: middle;\n",
       "    }\n",
       "\n",
       "    .dataframe tbody tr th {\n",
       "        vertical-align: top;\n",
       "    }\n",
       "\n",
       "    .dataframe thead th {\n",
       "        text-align: right;\n",
       "    }\n",
       "</style>\n",
       "<table border=\"1\" class=\"dataframe\">\n",
       "  <thead>\n",
       "    <tr style=\"text-align: right;\">\n",
       "      <th></th>\n",
       "      <th>weekend_nights</th>\n",
       "      <th>week_nights</th>\n",
       "      <th>room_type</th>\n",
       "      <th>n_adults</th>\n",
       "      <th>n_less_12</th>\n",
       "      <th>n_more_12</th>\n",
       "      <th>booked_tour</th>\n",
       "      <th>n_requests</th>\n",
       "      <th>lead_time</th>\n",
       "      <th>n_p_cacellation</th>\n",
       "      <th>n_p_not_cacellation</th>\n",
       "      <th>repeated</th>\n",
       "      <th>price</th>\n",
       "      <th>is_canceled</th>\n",
       "      <th>month</th>\n",
       "      <th>day</th>\n",
       "      <th>year</th>\n",
       "    </tr>\n",
       "  </thead>\n",
       "  <tbody>\n",
       "    <tr>\n",
       "      <th>count</th>\n",
       "      <td>27213.000000</td>\n",
       "      <td>27213.000000</td>\n",
       "      <td>27213.000000</td>\n",
       "      <td>27213.000000</td>\n",
       "      <td>27213.000000</td>\n",
       "      <td>27213.000000</td>\n",
       "      <td>27213.000000</td>\n",
       "      <td>27213.000000</td>\n",
       "      <td>26794.000000</td>\n",
       "      <td>27213.000000</td>\n",
       "      <td>27213.000000</td>\n",
       "      <td>27213.000000</td>\n",
       "      <td>23808.000000</td>\n",
       "      <td>27213.000000</td>\n",
       "      <td>27213.000000</td>\n",
       "      <td>27213.000000</td>\n",
       "      <td>27213.000000</td>\n",
       "    </tr>\n",
       "    <tr>\n",
       "      <th>mean</th>\n",
       "      <td>0.812810</td>\n",
       "      <td>2.197332</td>\n",
       "      <td>1.712637</td>\n",
       "      <td>1.845221</td>\n",
       "      <td>0.052989</td>\n",
       "      <td>0.053357</td>\n",
       "      <td>0.031750</td>\n",
       "      <td>0.621100</td>\n",
       "      <td>102.952377</td>\n",
       "      <td>0.021975</td>\n",
       "      <td>0.155404</td>\n",
       "      <td>0.026421</td>\n",
       "      <td>123.455494</td>\n",
       "      <td>0.327674</td>\n",
       "      <td>7.430456</td>\n",
       "      <td>15.576930</td>\n",
       "      <td>2017.821703</td>\n",
       "    </tr>\n",
       "    <tr>\n",
       "      <th>std</th>\n",
       "      <td>0.869317</td>\n",
       "      <td>1.403576</td>\n",
       "      <td>1.404446</td>\n",
       "      <td>0.519715</td>\n",
       "      <td>0.266150</td>\n",
       "      <td>0.268688</td>\n",
       "      <td>0.175336</td>\n",
       "      <td>0.785642</td>\n",
       "      <td>103.498942</td>\n",
       "      <td>0.346697</td>\n",
       "      <td>1.728693</td>\n",
       "      <td>0.160387</td>\n",
       "      <td>35.136566</td>\n",
       "      <td>0.469374</td>\n",
       "      <td>3.061317</td>\n",
       "      <td>8.749339</td>\n",
       "      <td>0.383154</td>\n",
       "    </tr>\n",
       "    <tr>\n",
       "      <th>min</th>\n",
       "      <td>0.000000</td>\n",
       "      <td>0.000000</td>\n",
       "      <td>1.000000</td>\n",
       "      <td>0.000000</td>\n",
       "      <td>0.000000</td>\n",
       "      <td>0.000000</td>\n",
       "      <td>0.000000</td>\n",
       "      <td>0.000000</td>\n",
       "      <td>0.000000</td>\n",
       "      <td>0.000000</td>\n",
       "      <td>0.000000</td>\n",
       "      <td>0.000000</td>\n",
       "      <td>20.000000</td>\n",
       "      <td>0.000000</td>\n",
       "      <td>1.000000</td>\n",
       "      <td>1.000000</td>\n",
       "      <td>2015.000000</td>\n",
       "    </tr>\n",
       "    <tr>\n",
       "      <th>25%</th>\n",
       "      <td>0.000000</td>\n",
       "      <td>1.000000</td>\n",
       "      <td>1.000000</td>\n",
       "      <td>2.000000</td>\n",
       "      <td>0.000000</td>\n",
       "      <td>0.000000</td>\n",
       "      <td>0.000000</td>\n",
       "      <td>0.000000</td>\n",
       "      <td>21.000000</td>\n",
       "      <td>0.000000</td>\n",
       "      <td>0.000000</td>\n",
       "      <td>0.000000</td>\n",
       "      <td>100.300000</td>\n",
       "      <td>0.000000</td>\n",
       "      <td>5.000000</td>\n",
       "      <td>8.000000</td>\n",
       "      <td>2018.000000</td>\n",
       "    </tr>\n",
       "    <tr>\n",
       "      <th>50%</th>\n",
       "      <td>1.000000</td>\n",
       "      <td>2.000000</td>\n",
       "      <td>1.000000</td>\n",
       "      <td>2.000000</td>\n",
       "      <td>0.000000</td>\n",
       "      <td>0.000000</td>\n",
       "      <td>0.000000</td>\n",
       "      <td>0.000000</td>\n",
       "      <td>69.000000</td>\n",
       "      <td>0.000000</td>\n",
       "      <td>0.000000</td>\n",
       "      <td>0.000000</td>\n",
       "      <td>119.450000</td>\n",
       "      <td>0.000000</td>\n",
       "      <td>8.000000</td>\n",
       "      <td>16.000000</td>\n",
       "      <td>2018.000000</td>\n",
       "    </tr>\n",
       "    <tr>\n",
       "      <th>75%</th>\n",
       "      <td>2.000000</td>\n",
       "      <td>3.000000</td>\n",
       "      <td>1.000000</td>\n",
       "      <td>2.000000</td>\n",
       "      <td>0.000000</td>\n",
       "      <td>0.000000</td>\n",
       "      <td>0.000000</td>\n",
       "      <td>1.000000</td>\n",
       "      <td>153.000000</td>\n",
       "      <td>0.000000</td>\n",
       "      <td>0.000000</td>\n",
       "      <td>0.000000</td>\n",
       "      <td>140.000000</td>\n",
       "      <td>1.000000</td>\n",
       "      <td>10.000000</td>\n",
       "      <td>23.000000</td>\n",
       "      <td>2018.000000</td>\n",
       "    </tr>\n",
       "    <tr>\n",
       "      <th>max</th>\n",
       "      <td>7.000000</td>\n",
       "      <td>17.000000</td>\n",
       "      <td>7.000000</td>\n",
       "      <td>4.000000</td>\n",
       "      <td>6.000000</td>\n",
       "      <td>4.000000</td>\n",
       "      <td>1.000000</td>\n",
       "      <td>5.000000</td>\n",
       "      <td>532.000000</td>\n",
       "      <td>13.000000</td>\n",
       "      <td>57.000000</td>\n",
       "      <td>1.000000</td>\n",
       "      <td>560.000000</td>\n",
       "      <td>1.000000</td>\n",
       "      <td>12.000000</td>\n",
       "      <td>31.000000</td>\n",
       "      <td>2018.000000</td>\n",
       "    </tr>\n",
       "  </tbody>\n",
       "</table>\n",
       "</div>"
      ],
      "text/plain": [
       "       weekend_nights   week_nights     room_type      n_adults     n_less_12  \\\n",
       "count    27213.000000  27213.000000  27213.000000  27213.000000  27213.000000   \n",
       "mean         0.812810      2.197332      1.712637      1.845221      0.052989   \n",
       "std          0.869317      1.403576      1.404446      0.519715      0.266150   \n",
       "min          0.000000      0.000000      1.000000      0.000000      0.000000   \n",
       "25%          0.000000      1.000000      1.000000      2.000000      0.000000   \n",
       "50%          1.000000      2.000000      1.000000      2.000000      0.000000   \n",
       "75%          2.000000      3.000000      1.000000      2.000000      0.000000   \n",
       "max          7.000000     17.000000      7.000000      4.000000      6.000000   \n",
       "\n",
       "          n_more_12   booked_tour    n_requests     lead_time  \\\n",
       "count  27213.000000  27213.000000  27213.000000  26794.000000   \n",
       "mean       0.053357      0.031750      0.621100    102.952377   \n",
       "std        0.268688      0.175336      0.785642    103.498942   \n",
       "min        0.000000      0.000000      0.000000      0.000000   \n",
       "25%        0.000000      0.000000      0.000000     21.000000   \n",
       "50%        0.000000      0.000000      0.000000     69.000000   \n",
       "75%        0.000000      0.000000      1.000000    153.000000   \n",
       "max        4.000000      1.000000      5.000000    532.000000   \n",
       "\n",
       "       n_p_cacellation  n_p_not_cacellation      repeated         price  \\\n",
       "count     27213.000000         27213.000000  27213.000000  23808.000000   \n",
       "mean          0.021975             0.155404      0.026421    123.455494   \n",
       "std           0.346697             1.728693      0.160387     35.136566   \n",
       "min           0.000000             0.000000      0.000000     20.000000   \n",
       "25%           0.000000             0.000000      0.000000    100.300000   \n",
       "50%           0.000000             0.000000      0.000000    119.450000   \n",
       "75%           0.000000             0.000000      0.000000    140.000000   \n",
       "max          13.000000            57.000000      1.000000    560.000000   \n",
       "\n",
       "        is_canceled         month           day          year  \n",
       "count  27213.000000  27213.000000  27213.000000  27213.000000  \n",
       "mean       0.327674      7.430456     15.576930   2017.821703  \n",
       "std        0.469374      3.061317      8.749339      0.383154  \n",
       "min        0.000000      1.000000      1.000000   2015.000000  \n",
       "25%        0.000000      5.000000      8.000000   2018.000000  \n",
       "50%        0.000000      8.000000     16.000000   2018.000000  \n",
       "75%        1.000000     10.000000     23.000000   2018.000000  \n",
       "max        1.000000     12.000000     31.000000   2018.000000  "
      ]
     },
     "execution_count": 612,
     "metadata": {},
     "output_type": "execute_result"
    }
   ],
   "source": [
    "numeric_data.describe()"
   ]
  },
  {
   "cell_type": "markdown",
   "metadata": {},
   "source": [
    "#### Skewness\n",
    "for the real numeric attributes"
   ]
  },
  {
   "cell_type": "code",
   "execution_count": 613,
   "metadata": {},
   "outputs": [
    {
     "name": "stdout",
     "output_type": "stream",
     "text": [
      "price:\n",
      "\tskewness: 0.682392611272259\n",
      "\tmedian: 119.45\n",
      "week_nights:\n",
      "\tskewness: 1.5422954469230514\n",
      "\tmedian: 2.0\n",
      "lead_time:\n",
      "\tskewness: 1.291447308852505\n",
      "\tmedian: 69.0\n"
     ]
    }
   ],
   "source": [
    "for col in ['price', 'week_nights', 'lead_time']:\n",
    "    print(col+':')\n",
    "    print('\\tskewness:', numeric_data[col].skew(axis = 0, skipna = True))\n",
    "    print('\\tmedian:', numeric_data[col].median(axis = 0, skipna = True))\n",
    "    "
   ]
  },
  {
   "cell_type": "markdown",
   "metadata": {},
   "source": [
    "We can also look at the probability"
   ]
  },
  {
   "cell_type": "code",
   "execution_count": 614,
   "metadata": {},
   "outputs": [
    {
     "name": "stderr",
     "output_type": "stream",
     "text": [
      "c:\\Users\\Lenovo\\anaconda3\\Lib\\site-packages\\seaborn\\axisgrid.py:118: UserWarning: The figure layout has changed to tight\n",
      "  self._figure.tight_layout(*args, **kwargs)\n",
      "c:\\Users\\Lenovo\\anaconda3\\Lib\\site-packages\\seaborn\\axisgrid.py:118: UserWarning: The figure layout has changed to tight\n",
      "  self._figure.tight_layout(*args, **kwargs)\n",
      "c:\\Users\\Lenovo\\anaconda3\\Lib\\site-packages\\seaborn\\axisgrid.py:118: UserWarning: The figure layout has changed to tight\n",
      "  self._figure.tight_layout(*args, **kwargs)\n"
     ]
    },
    {
     "data": {
      "image/png": "[encoded data removed]",
      "text/plain": [
       "<Figure size 500x500 with 1 Axes>"
      ]
     },
     "metadata": {},
     "output_type": "display_data"
    },
    {
     "data": {
      "image/png": "[encoded data removed]",
      "text/plain": [
       "<Figure size 500x500 with 1 Axes>"
      ]
     },
     "metadata": {},
     "output_type": "display_data"
    },
    {
     "data": {
      "image/png": "[encoded data removed]",
      "text/plain": [
       "<Figure size 500x500 with 1 Axes>"
      ]
     },
     "metadata": {},
     "output_type": "display_data"
    }
   ],
   "source": [
    "for col in ['price', 'week_nights', 'lead_time']:\n",
    "    sns.displot(numeric_data[col], color='skyblue' ,stat=\"probability\", discrete=True )"
   ]
  },
  {
   "cell_type": "markdown",
   "metadata": {},
   "source": [
    "Check the values in 'price'"
   ]
  },
  {
   "cell_type": "code",
   "execution_count": 615,
   "metadata": {},
   "outputs": [
    {
     "name": "stdout",
     "output_type": "stream",
     "text": [
      "min: 20.0\n",
      "max: 560.0\n",
      "values over 350: 2\n",
      "values under 10: 395\n"
     ]
    }
   ],
   "source": [
    "\n",
    "\n",
    "print('min:', numeric_data['price'].min())\n",
    "print('max:', numeric_data['price'].max())\n",
    "print('values over 350:', numeric_data[numeric_data['price']>350].shape[0])\n",
    "print('values under 10:', numeric_data[numeric_data['price']<30].shape[0])"
   ]
  },
  {
   "cell_type": "markdown",
   "metadata": {},
   "source": [
    "Maybe there are outliers?"
   ]
  },
  {
   "cell_type": "code",
   "execution_count": 616,
   "metadata": {},
   "outputs": [
    {
     "data": {
      "text/html": [
       "<div>\n",
       "<style scoped>\n",
       "    .dataframe tbody tr th:only-of-type {\n",
       "        vertical-align: middle;\n",
       "    }\n",
       "\n",
       "    .dataframe tbody tr th {\n",
       "        vertical-align: top;\n",
       "    }\n",
       "\n",
       "    .dataframe thead th {\n",
       "        text-align: right;\n",
       "    }\n",
       "</style>\n",
       "<table border=\"1\" class=\"dataframe\">\n",
       "  <thead>\n",
       "    <tr style=\"text-align: right;\">\n",
       "      <th></th>\n",
       "      <th>ID</th>\n",
       "      <th>weekend_nights</th>\n",
       "      <th>week_nights</th>\n",
       "      <th>room_type</th>\n",
       "      <th>board_type</th>\n",
       "      <th>n_adults</th>\n",
       "      <th>n_less_12</th>\n",
       "      <th>n_more_12</th>\n",
       "      <th>booked_tour</th>\n",
       "      <th>n_requests</th>\n",
       "      <th>...</th>\n",
       "      <th>purchase_type</th>\n",
       "      <th>n_p_cacellation</th>\n",
       "      <th>n_p_not_cacellation</th>\n",
       "      <th>repeated</th>\n",
       "      <th>price</th>\n",
       "      <th>date</th>\n",
       "      <th>is_canceled</th>\n",
       "      <th>month</th>\n",
       "      <th>day</th>\n",
       "      <th>year</th>\n",
       "    </tr>\n",
       "  </thead>\n",
       "  <tbody>\n",
       "    <tr>\n",
       "      <th>4092</th>\n",
       "      <td>INN34307</td>\n",
       "      <td>0</td>\n",
       "      <td>3</td>\n",
       "      <td>6</td>\n",
       "      <td>breakfast</td>\n",
       "      <td>2</td>\n",
       "      <td>0</td>\n",
       "      <td>2</td>\n",
       "      <td>0</td>\n",
       "      <td>1</td>\n",
       "      <td>...</td>\n",
       "      <td>Online</td>\n",
       "      <td>0</td>\n",
       "      <td>0</td>\n",
       "      <td>0</td>\n",
       "      <td>369.63</td>\n",
       "      <td>12/29/2018</td>\n",
       "      <td>0</td>\n",
       "      <td>12</td>\n",
       "      <td>29</td>\n",
       "      <td>2018</td>\n",
       "    </tr>\n",
       "    <tr>\n",
       "      <th>9412</th>\n",
       "      <td>INN33115</td>\n",
       "      <td>0</td>\n",
       "      <td>1</td>\n",
       "      <td>1</td>\n",
       "      <td>half board</td>\n",
       "      <td>2</td>\n",
       "      <td>0</td>\n",
       "      <td>0</td>\n",
       "      <td>0</td>\n",
       "      <td>0</td>\n",
       "      <td>...</td>\n",
       "      <td>Offline</td>\n",
       "      <td>0</td>\n",
       "      <td>0</td>\n",
       "      <td>0</td>\n",
       "      <td>560.00</td>\n",
       "      <td>3/25/2018</td>\n",
       "      <td>1</td>\n",
       "      <td>3</td>\n",
       "      <td>25</td>\n",
       "      <td>2018</td>\n",
       "    </tr>\n",
       "  </tbody>\n",
       "</table>\n",
       "<p>2 rows × 21 columns</p>\n",
       "</div>"
      ],
      "text/plain": [
       "            ID  weekend_nights  week_nights  room_type  board_type  n_adults  \\\n",
       "4092  INN34307               0            3          6   breakfast         2   \n",
       "9412  INN33115               0            1          1  half board         2   \n",
       "\n",
       "      n_less_12  n_more_12  booked_tour  n_requests  ...  purchase_type  \\\n",
       "4092          0          2            0           1  ...         Online   \n",
       "9412          0          0            0           0  ...        Offline   \n",
       "\n",
       "     n_p_cacellation  n_p_not_cacellation  repeated   price        date  \\\n",
       "4092               0                    0         0  369.63  12/29/2018   \n",
       "9412               0                    0         0  560.00   3/25/2018   \n",
       "\n",
       "     is_canceled  month  day  year  \n",
       "4092           0     12   29  2018  \n",
       "9412           1      3   25  2018  \n",
       "\n",
       "[2 rows x 21 columns]"
      ]
     },
     "execution_count": 616,
     "metadata": {},
     "output_type": "execute_result"
    }
   ],
   "source": [
    "df[df['price']>350]"
   ]
  },
  {
   "cell_type": "code",
   "execution_count": 617,
   "metadata": {},
   "outputs": [
    {
     "data": {
      "text/plain": [
       "<Axes: ylabel='price'>"
      ]
     },
     "execution_count": 617,
     "metadata": {},
     "output_type": "execute_result"
    },
    {
     "data": {
      "image/png": "[encoded data removed]",
      "text/plain": [
       "<Figure size 500x500 with 1 Axes>"
      ]
     },
     "metadata": {},
     "output_type": "display_data"
    }
   ],
   "source": [
    "sns.boxplot(y=\"price\", data=df)"
   ]
  },
  {
   "cell_type": "code",
   "execution_count": 618,
   "metadata": {},
   "outputs": [
    {
     "data": {
      "text/plain": [
       "<Axes: ylabel='week_nights'>"
      ]
     },
     "execution_count": 618,
     "metadata": {},
     "output_type": "execute_result"
    },
    {
     "data": {
      "image/png": "[encoded data removed]",
      "text/plain": [
       "<Figure size 500x500 with 1 Axes>"
      ]
     },
     "metadata": {},
     "output_type": "display_data"
    }
   ],
   "source": [
    "sns.boxplot(y=\"week_nights\", data=df)"
   ]
  },
  {
   "cell_type": "code",
   "execution_count": 619,
   "metadata": {},
   "outputs": [
    {
     "data": {
      "text/plain": [
       "<Axes: ylabel='lead_time'>"
      ]
     },
     "execution_count": 619,
     "metadata": {},
     "output_type": "execute_result"
    },
    {
     "data": {
      "image/png": "[encoded data removed]",
      "text/plain": [
       "<Figure size 500x500 with 1 Axes>"
      ]
     },
     "metadata": {},
     "output_type": "display_data"
    }
   ],
   "source": [
    "sns.boxplot(y=\"lead_time\", data=df)"
   ]
  },
  {
   "cell_type": "markdown",
   "metadata": {},
   "source": [
    "### Categorial attributes"
   ]
  },
  {
   "cell_type": "code",
   "execution_count": 620,
   "metadata": {},
   "outputs": [
    {
     "name": "stdout",
     "output_type": "stream",
     "text": [
      "weekend_nights\n",
      "0    12621\n",
      "1     7492\n",
      "2     6857\n",
      "3      115\n",
      "4       89\n",
      "5       23\n",
      "6       15\n",
      "7        1\n",
      "Name: count, dtype: int64\n",
      "-----------------------------\n",
      "n_adults\n",
      "0      104\n",
      "1     5781\n",
      "2    19565\n",
      "3     1749\n",
      "4       14\n",
      "Name: count, dtype: int64\n",
      "-----------------------------\n",
      "n_more_12\n",
      "0    26051\n",
      "1      876\n",
      "2      283\n",
      "3        2\n",
      "4        1\n",
      "Name: count, dtype: int64\n",
      "-----------------------------\n",
      "n_less_12\n",
      "0    26040\n",
      "1      910\n",
      "2      260\n",
      "3        2\n",
      "6        1\n",
      "Name: count, dtype: int64\n",
      "-----------------------------\n",
      "n_requests\n",
      "0    14786\n",
      "1     8596\n",
      "2     3257\n",
      "3      511\n",
      "4       56\n",
      "5        7\n",
      "Name: count, dtype: int64\n",
      "-----------------------------\n",
      "room_type\n",
      "1    21084\n",
      "2      511\n",
      "3        3\n",
      "4     4571\n",
      "5      180\n",
      "6      741\n",
      "7      123\n",
      "Name: count, dtype: int64\n",
      "-----------------------------\n",
      "booked_tour\n",
      "0    26349\n",
      "1      864\n",
      "Name: count, dtype: int64\n",
      "-----------------------------\n",
      "n_p_cacellation\n",
      "0     26959\n",
      "1       154\n",
      "2        37\n",
      "3        27\n",
      "4         9\n",
      "5         8\n",
      "11       17\n",
      "13        2\n",
      "Name: count, dtype: int64\n",
      "-----------------------------\n",
      "n_p_not_cacellation\n",
      "0     26584\n",
      "1       169\n",
      "2        87\n",
      "3        66\n",
      "4        50\n",
      "5        50\n",
      "6        31\n",
      "7        20\n",
      "8        16\n",
      "9        15\n",
      "10       16\n",
      "11       11\n",
      "12        7\n",
      "13        6\n",
      "14        7\n",
      "15        4\n",
      "16        7\n",
      "17        5\n",
      "18        5\n",
      "19        6\n",
      "20        4\n",
      "21        6\n",
      "22        4\n",
      "23        2\n",
      "24        3\n",
      "25        2\n",
      "26        2\n",
      "27        3\n",
      "28        1\n",
      "29        2\n",
      "30        2\n",
      "31        1\n",
      "33        1\n",
      "35        1\n",
      "38        1\n",
      "39        1\n",
      "40        1\n",
      "41        1\n",
      "43        1\n",
      "44        2\n",
      "46        1\n",
      "47        1\n",
      "48        1\n",
      "50        1\n",
      "52        1\n",
      "53        1\n",
      "54        1\n",
      "55        1\n",
      "56        1\n",
      "57        1\n",
      "Name: count, dtype: int64\n",
      "-----------------------------\n",
      "repeated\n",
      "0    26494\n",
      "1      719\n",
      "Name: count, dtype: int64\n",
      "-----------------------------\n",
      "month\n",
      "1      739\n",
      "2     1248\n",
      "3     1785\n",
      "4     2053\n",
      "5     1964\n",
      "6     2392\n",
      "7     2244\n",
      "8     2832\n",
      "9     3443\n",
      "10    4015\n",
      "11    2246\n",
      "12    2252\n",
      "Name: count, dtype: int64\n",
      "-----------------------------\n",
      "day\n",
      "1      873\n",
      "2      989\n",
      "3      825\n",
      "4      975\n",
      "5      877\n",
      "6      973\n",
      "7      843\n",
      "8      912\n",
      "9      842\n",
      "10     800\n",
      "11     823\n",
      "12     926\n",
      "13    1039\n",
      "14     914\n",
      "15     952\n",
      "16     965\n",
      "17    1016\n",
      "18     929\n",
      "19     973\n",
      "20     964\n",
      "21     861\n",
      "22     758\n",
      "23     738\n",
      "24     846\n",
      "25     879\n",
      "26     863\n",
      "27     793\n",
      "28     830\n",
      "29     862\n",
      "30     938\n",
      "31     435\n",
      "Name: count, dtype: int64\n",
      "-----------------------------\n",
      "year\n",
      "2015        1\n",
      "2016        1\n",
      "2017     4847\n",
      "2018    22364\n",
      "Name: count, dtype: int64\n",
      "-----------------------------\n"
     ]
    }
   ],
   "source": [
    "cat_col = ['weekend_nights', 'n_adults', 'n_more_12','n_less_12', 'n_requests', 'room_type', 'booked_tour', 'n_p_cacellation', 'n_p_not_cacellation', 'repeated', 'month', 'day', 'year']\n",
    "for col in cat_col:\n",
    "    print(numeric_data[col].value_counts().sort_index())\n",
    "    print('-----------------------------')"
   ]
  },
  {
   "cell_type": "markdown",
   "metadata": {},
   "source": [
    "## Nominal data\n",
    "For nominal data we would like to know how many unique values there are and the distribution."
   ]
  },
  {
   "cell_type": "code",
   "execution_count": 621,
   "metadata": {},
   "outputs": [
    {
     "name": "stdout",
     "output_type": "stream",
     "text": [
      "<class 'pandas.core.frame.DataFrame'>\n",
      "RangeIndex: 27213 entries, 0 to 27212\n",
      "Data columns (total 4 columns):\n",
      " #   Column         Non-Null Count  Dtype \n",
      "---  ------         --------------  ----- \n",
      " 0   ID             27213 non-null  object\n",
      " 1   board_type     19045 non-null  object\n",
      " 2   purchase_type  22366 non-null  object\n",
      " 3   date           27213 non-null  object\n",
      "dtypes: object(4)\n",
      "memory usage: 850.5+ KB\n"
     ]
    }
   ],
   "source": [
    "nominal_data.info()"
   ]
  },
  {
   "cell_type": "markdown",
   "metadata": {},
   "source": [
    "Describe function for nominal data show information about unique value, top value and the top value frequency."
   ]
  },
  {
   "cell_type": "code",
   "execution_count": 622,
   "metadata": {},
   "outputs": [
    {
     "data": {
      "text/html": [
       "<div>\n",
       "<style scoped>\n",
       "    .dataframe tbody tr th:only-of-type {\n",
       "        vertical-align: middle;\n",
       "    }\n",
       "\n",
       "    .dataframe tbody tr th {\n",
       "        vertical-align: top;\n",
       "    }\n",
       "\n",
       "    .dataframe thead th {\n",
       "        text-align: right;\n",
       "    }\n",
       "</style>\n",
       "<table border=\"1\" class=\"dataframe\">\n",
       "  <thead>\n",
       "    <tr style=\"text-align: right;\">\n",
       "      <th></th>\n",
       "      <th>ID</th>\n",
       "      <th>board_type</th>\n",
       "      <th>purchase_type</th>\n",
       "      <th>date</th>\n",
       "    </tr>\n",
       "  </thead>\n",
       "  <tbody>\n",
       "    <tr>\n",
       "      <th>count</th>\n",
       "      <td>27213</td>\n",
       "      <td>19045</td>\n",
       "      <td>22366</td>\n",
       "      <td>27213</td>\n",
       "    </tr>\n",
       "    <tr>\n",
       "      <th>unique</th>\n",
       "      <td>27213</td>\n",
       "      <td>4</td>\n",
       "      <td>5</td>\n",
       "      <td>552</td>\n",
       "    </tr>\n",
       "    <tr>\n",
       "      <th>top</th>\n",
       "      <td>INN09588</td>\n",
       "      <td>half board</td>\n",
       "      <td>Online</td>\n",
       "      <td>10/13/2018</td>\n",
       "    </tr>\n",
       "    <tr>\n",
       "      <th>freq</th>\n",
       "      <td>1</td>\n",
       "      <td>14591</td>\n",
       "      <td>14306</td>\n",
       "      <td>188</td>\n",
       "    </tr>\n",
       "  </tbody>\n",
       "</table>\n",
       "</div>"
      ],
      "text/plain": [
       "              ID  board_type purchase_type        date\n",
       "count      27213       19045         22366       27213\n",
       "unique     27213           4             5         552\n",
       "top     INN09588  half board        Online  10/13/2018\n",
       "freq           1       14591         14306         188"
      ]
     },
     "execution_count": 622,
     "metadata": {},
     "output_type": "execute_result"
    }
   ],
   "source": [
    "describe_df = nominal_data.describe()\n",
    "describe_df"
   ]
  },
  {
   "cell_type": "markdown",
   "metadata": {},
   "source": [
    "Adding the top value frequency in percent."
   ]
  },
  {
   "cell_type": "code",
   "execution_count": 623,
   "metadata": {},
   "outputs": [
    {
     "data": {
      "text/html": [
       "<div>\n",
       "<style scoped>\n",
       "    .dataframe tbody tr th:only-of-type {\n",
       "        vertical-align: middle;\n",
       "    }\n",
       "\n",
       "    .dataframe tbody tr th {\n",
       "        vertical-align: top;\n",
       "    }\n",
       "\n",
       "    .dataframe thead th {\n",
       "        text-align: right;\n",
       "    }\n",
       "</style>\n",
       "<table border=\"1\" class=\"dataframe\">\n",
       "  <thead>\n",
       "    <tr style=\"text-align: right;\">\n",
       "      <th></th>\n",
       "      <th>ID</th>\n",
       "      <th>board_type</th>\n",
       "      <th>purchase_type</th>\n",
       "      <th>date</th>\n",
       "    </tr>\n",
       "  </thead>\n",
       "  <tbody>\n",
       "    <tr>\n",
       "      <th>count</th>\n",
       "      <td>27213</td>\n",
       "      <td>19045</td>\n",
       "      <td>22366</td>\n",
       "      <td>27213</td>\n",
       "    </tr>\n",
       "    <tr>\n",
       "      <th>unique</th>\n",
       "      <td>27213</td>\n",
       "      <td>4</td>\n",
       "      <td>5</td>\n",
       "      <td>552</td>\n",
       "    </tr>\n",
       "    <tr>\n",
       "      <th>top</th>\n",
       "      <td>INN09588</td>\n",
       "      <td>half board</td>\n",
       "      <td>Online</td>\n",
       "      <td>10/13/2018</td>\n",
       "    </tr>\n",
       "    <tr>\n",
       "      <th>freq</th>\n",
       "      <td>1</td>\n",
       "      <td>14591</td>\n",
       "      <td>14306</td>\n",
       "      <td>188</td>\n",
       "    </tr>\n",
       "    <tr>\n",
       "      <th>%freq</th>\n",
       "      <td>0.001</td>\n",
       "      <td>16.376</td>\n",
       "      <td>16.056</td>\n",
       "      <td>0.211</td>\n",
       "    </tr>\n",
       "  </tbody>\n",
       "</table>\n",
       "</div>"
      ],
      "text/plain": [
       "              ID  board_type purchase_type        date\n",
       "count      27213       19045         22366       27213\n",
       "unique     27213           4             5         552\n",
       "top     INN09588  half board        Online  10/13/2018\n",
       "freq           1       14591         14306         188\n",
       "%freq      0.001      16.376        16.056       0.211"
      ]
     },
     "execution_count": 623,
     "metadata": {},
     "output_type": "execute_result"
    }
   ],
   "source": [
    "describe_df.loc['%freq'] = describe_df.apply(lambda x: np.round(x.loc['freq']/891, decimals=3))\n",
    "describe_df"
   ]
  },
  {
   "cell_type": "markdown",
   "metadata": {},
   "source": [
    "#### Histograms\n",
    "The columns 'Name' and 'Ticket' have to many unique values so there is no reason to look on their histograms.\n",
    "Handale missing values - fill in 'NA' just to be able to see the histograms."
   ]
  },
  {
   "cell_type": "code",
   "execution_count": 624,
   "metadata": {},
   "outputs": [],
   "source": [
    "nominal_data = nominal_data.fillna('not selected')"
   ]
  },
  {
   "cell_type": "code",
   "execution_count": 625,
   "metadata": {},
   "outputs": [
    {
     "data": {
      "text/plain": [
       "board_type\n",
       "half board      14591\n",
       "not selected     8172\n",
       "full board       2697\n",
       "breakfast        1753\n",
       "Name: count, dtype: int64"
      ]
     },
     "execution_count": 625,
     "metadata": {},
     "output_type": "execute_result"
    }
   ],
   "source": [
    "nominal_data['board_type'].value_counts()"
   ]
  },
  {
   "cell_type": "code",
   "execution_count": 630,
   "metadata": {},
   "outputs": [
    {
     "data": {
      "text/plain": [
       "purchase_type\n",
       "Online           14306\n",
       "Offline           6501\n",
       "not selected      4847\n",
       "Corporate         1238\n",
       "Complementary      244\n",
       "Aviation            77\n",
       "Name: count, dtype: int64"
      ]
     },
     "execution_count": 630,
     "metadata": {},
     "output_type": "execute_result"
    }
   ],
   "source": [
    "nominal_data['purchase_type'].value_counts()\n",
    "#### noam/amir to change\n"
   ]
  },
  {
   "cell_type": "code",
   "execution_count": 626,
   "metadata": {},
   "outputs": [
    {
     "ename": "ValueError",
     "evalue": "Could not interpret value `Sex` for parameter `x`",
     "output_type": "error",
     "traceback": [
      "\u001b[1;31m---------------------------------------------------------------------------\u001b[0m",
      "\u001b[1;31mValueError\u001b[0m                                Traceback (most recent call last)",
      "Cell \u001b[1;32mIn[626], line 3\u001b[0m\n\u001b[0;32m      1\u001b[0m dist_col \u001b[38;5;241m=\u001b[39m [\u001b[38;5;124m'\u001b[39m\u001b[38;5;124mSex\u001b[39m\u001b[38;5;124m'\u001b[39m, \u001b[38;5;124m'\u001b[39m\u001b[38;5;124mEmbarked\u001b[39m\u001b[38;5;124m'\u001b[39m, \u001b[38;5;124m'\u001b[39m\u001b[38;5;124mCabin_sign\u001b[39m\u001b[38;5;124m'\u001b[39m]\n\u001b[0;32m      2\u001b[0m \u001b[38;5;28;01mfor\u001b[39;00m col \u001b[38;5;129;01min\u001b[39;00m dist_col:\n\u001b[1;32m----> 3\u001b[0m     sns\u001b[38;5;241m.\u001b[39mdisplot(nominal_data, x\u001b[38;5;241m=\u001b[39mcol, shrink\u001b[38;5;241m=\u001b[39m\u001b[38;5;241m.8\u001b[39m, color\u001b[38;5;241m=\u001b[39m\u001b[38;5;124m'\u001b[39m\u001b[38;5;124mskyblue\u001b[39m\u001b[38;5;124m'\u001b[39m)\n",
      "File \u001b[1;32mc:\\Users\\Lenovo\\anaconda3\\Lib\\site-packages\\seaborn\\distributions.py:2125\u001b[0m, in \u001b[0;36mdisplot\u001b[1;34m(data, x, y, hue, row, col, weights, kind, rug, rug_kws, log_scale, legend, palette, hue_order, hue_norm, color, col_wrap, row_order, col_order, height, aspect, facet_kws, **kwargs)\u001b[0m\n\u001b[0;32m   2111\u001b[0m \u001b[38;5;28;01mdef\u001b[39;00m \u001b[38;5;21mdisplot\u001b[39m(\n\u001b[0;32m   2112\u001b[0m     data\u001b[38;5;241m=\u001b[39m\u001b[38;5;28;01mNone\u001b[39;00m, \u001b[38;5;241m*\u001b[39m,\n\u001b[0;32m   2113\u001b[0m     \u001b[38;5;66;03m# Vector variables\u001b[39;00m\n\u001b[1;32m   (...)\u001b[0m\n\u001b[0;32m   2122\u001b[0m     \u001b[38;5;241m*\u001b[39m\u001b[38;5;241m*\u001b[39mkwargs,\n\u001b[0;32m   2123\u001b[0m ):\n\u001b[1;32m-> 2125\u001b[0m     p \u001b[38;5;241m=\u001b[39m _DistributionFacetPlotter(\n\u001b[0;32m   2126\u001b[0m         data\u001b[38;5;241m=\u001b[39mdata,\n\u001b[0;32m   2127\u001b[0m         variables\u001b[38;5;241m=\u001b[39m_DistributionFacetPlotter\u001b[38;5;241m.\u001b[39mget_semantics(\u001b[38;5;28mlocals\u001b[39m())\n\u001b[0;32m   2128\u001b[0m     )\n\u001b[0;32m   2130\u001b[0m     p\u001b[38;5;241m.\u001b[39mmap_hue(palette\u001b[38;5;241m=\u001b[39mpalette, order\u001b[38;5;241m=\u001b[39mhue_order, norm\u001b[38;5;241m=\u001b[39mhue_norm)\n\u001b[0;32m   2132\u001b[0m     _check_argument(\u001b[38;5;124m\"\u001b[39m\u001b[38;5;124mkind\u001b[39m\u001b[38;5;124m\"\u001b[39m, [\u001b[38;5;124m\"\u001b[39m\u001b[38;5;124mhist\u001b[39m\u001b[38;5;124m\"\u001b[39m, \u001b[38;5;124m\"\u001b[39m\u001b[38;5;124mkde\u001b[39m\u001b[38;5;124m\"\u001b[39m, \u001b[38;5;124m\"\u001b[39m\u001b[38;5;124mecdf\u001b[39m\u001b[38;5;124m\"\u001b[39m], kind)\n",
      "File \u001b[1;32mc:\\Users\\Lenovo\\anaconda3\\Lib\\site-packages\\seaborn\\distributions.py:113\u001b[0m, in \u001b[0;36m_DistributionPlotter.__init__\u001b[1;34m(self, data, variables)\u001b[0m\n\u001b[0;32m    107\u001b[0m \u001b[38;5;28;01mdef\u001b[39;00m \u001b[38;5;21m__init__\u001b[39m(\n\u001b[0;32m    108\u001b[0m     \u001b[38;5;28mself\u001b[39m,\n\u001b[0;32m    109\u001b[0m     data\u001b[38;5;241m=\u001b[39m\u001b[38;5;28;01mNone\u001b[39;00m,\n\u001b[0;32m    110\u001b[0m     variables\u001b[38;5;241m=\u001b[39m{},\n\u001b[0;32m    111\u001b[0m ):\n\u001b[1;32m--> 113\u001b[0m     \u001b[38;5;28msuper\u001b[39m()\u001b[38;5;241m.\u001b[39m\u001b[38;5;21m__init__\u001b[39m(data\u001b[38;5;241m=\u001b[39mdata, variables\u001b[38;5;241m=\u001b[39mvariables)\n",
      "File \u001b[1;32mc:\\Users\\Lenovo\\anaconda3\\Lib\\site-packages\\seaborn\\_oldcore.py:640\u001b[0m, in \u001b[0;36mVectorPlotter.__init__\u001b[1;34m(self, data, variables)\u001b[0m\n\u001b[0;32m    635\u001b[0m \u001b[38;5;66;03m# var_ordered is relevant only for categorical axis variables, and may\u001b[39;00m\n\u001b[0;32m    636\u001b[0m \u001b[38;5;66;03m# be better handled by an internal axis information object that tracks\u001b[39;00m\n\u001b[0;32m    637\u001b[0m \u001b[38;5;66;03m# such information and is set up by the scale_* methods. The analogous\u001b[39;00m\n\u001b[0;32m    638\u001b[0m \u001b[38;5;66;03m# information for numeric axes would be information about log scales.\u001b[39;00m\n\u001b[0;32m    639\u001b[0m \u001b[38;5;28mself\u001b[39m\u001b[38;5;241m.\u001b[39m_var_ordered \u001b[38;5;241m=\u001b[39m {\u001b[38;5;124m\"\u001b[39m\u001b[38;5;124mx\u001b[39m\u001b[38;5;124m\"\u001b[39m: \u001b[38;5;28;01mFalse\u001b[39;00m, \u001b[38;5;124m\"\u001b[39m\u001b[38;5;124my\u001b[39m\u001b[38;5;124m\"\u001b[39m: \u001b[38;5;28;01mFalse\u001b[39;00m}  \u001b[38;5;66;03m# alt., used DefaultDict\u001b[39;00m\n\u001b[1;32m--> 640\u001b[0m \u001b[38;5;28mself\u001b[39m\u001b[38;5;241m.\u001b[39massign_variables(data, variables)\n\u001b[0;32m    642\u001b[0m \u001b[38;5;28;01mfor\u001b[39;00m var, \u001b[38;5;28mcls\u001b[39m \u001b[38;5;129;01min\u001b[39;00m \u001b[38;5;28mself\u001b[39m\u001b[38;5;241m.\u001b[39m_semantic_mappings\u001b[38;5;241m.\u001b[39mitems():\n\u001b[0;32m    643\u001b[0m \n\u001b[0;32m    644\u001b[0m     \u001b[38;5;66;03m# Create the mapping function\u001b[39;00m\n\u001b[0;32m    645\u001b[0m     map_func \u001b[38;5;241m=\u001b[39m partial(\u001b[38;5;28mcls\u001b[39m\u001b[38;5;241m.\u001b[39mmap, plotter\u001b[38;5;241m=\u001b[39m\u001b[38;5;28mself\u001b[39m)\n",
      "File \u001b[1;32mc:\\Users\\Lenovo\\anaconda3\\Lib\\site-packages\\seaborn\\_oldcore.py:701\u001b[0m, in \u001b[0;36mVectorPlotter.assign_variables\u001b[1;34m(self, data, variables)\u001b[0m\n\u001b[0;32m    699\u001b[0m \u001b[38;5;28;01melse\u001b[39;00m:\n\u001b[0;32m    700\u001b[0m     \u001b[38;5;28mself\u001b[39m\u001b[38;5;241m.\u001b[39minput_format \u001b[38;5;241m=\u001b[39m \u001b[38;5;124m\"\u001b[39m\u001b[38;5;124mlong\u001b[39m\u001b[38;5;124m\"\u001b[39m\n\u001b[1;32m--> 701\u001b[0m     plot_data, variables \u001b[38;5;241m=\u001b[39m \u001b[38;5;28mself\u001b[39m\u001b[38;5;241m.\u001b[39m_assign_variables_longform(\n\u001b[0;32m    702\u001b[0m         data, \u001b[38;5;241m*\u001b[39m\u001b[38;5;241m*\u001b[39mvariables,\n\u001b[0;32m    703\u001b[0m     )\n\u001b[0;32m    705\u001b[0m \u001b[38;5;28mself\u001b[39m\u001b[38;5;241m.\u001b[39mplot_data \u001b[38;5;241m=\u001b[39m plot_data\n\u001b[0;32m    706\u001b[0m \u001b[38;5;28mself\u001b[39m\u001b[38;5;241m.\u001b[39mvariables \u001b[38;5;241m=\u001b[39m variables\n",
      "File \u001b[1;32mc:\\Users\\Lenovo\\anaconda3\\Lib\\site-packages\\seaborn\\_oldcore.py:938\u001b[0m, in \u001b[0;36mVectorPlotter._assign_variables_longform\u001b[1;34m(self, data, **kwargs)\u001b[0m\n\u001b[0;32m    933\u001b[0m \u001b[38;5;28;01melif\u001b[39;00m \u001b[38;5;28misinstance\u001b[39m(val, (\u001b[38;5;28mstr\u001b[39m, \u001b[38;5;28mbytes\u001b[39m)):\n\u001b[0;32m    934\u001b[0m \n\u001b[0;32m    935\u001b[0m     \u001b[38;5;66;03m# This looks like a column name but we don't know what it means!\u001b[39;00m\n\u001b[0;32m    937\u001b[0m     err \u001b[38;5;241m=\u001b[39m \u001b[38;5;124mf\u001b[39m\u001b[38;5;124m\"\u001b[39m\u001b[38;5;124mCould not interpret value `\u001b[39m\u001b[38;5;132;01m{\u001b[39;00mval\u001b[38;5;132;01m}\u001b[39;00m\u001b[38;5;124m` for parameter `\u001b[39m\u001b[38;5;132;01m{\u001b[39;00mkey\u001b[38;5;132;01m}\u001b[39;00m\u001b[38;5;124m`\u001b[39m\u001b[38;5;124m\"\u001b[39m\n\u001b[1;32m--> 938\u001b[0m     \u001b[38;5;28;01mraise\u001b[39;00m \u001b[38;5;167;01mValueError\u001b[39;00m(err)\n\u001b[0;32m    940\u001b[0m \u001b[38;5;28;01melse\u001b[39;00m:\n\u001b[0;32m    941\u001b[0m \n\u001b[0;32m    942\u001b[0m     \u001b[38;5;66;03m# Otherwise, assume the value is itself data\u001b[39;00m\n\u001b[0;32m    943\u001b[0m \n\u001b[0;32m    944\u001b[0m     \u001b[38;5;66;03m# Raise when data object is present and a vector can't matched\u001b[39;00m\n\u001b[0;32m    945\u001b[0m     \u001b[38;5;28;01mif\u001b[39;00m \u001b[38;5;28misinstance\u001b[39m(data, pd\u001b[38;5;241m.\u001b[39mDataFrame) \u001b[38;5;129;01mand\u001b[39;00m \u001b[38;5;129;01mnot\u001b[39;00m \u001b[38;5;28misinstance\u001b[39m(val, pd\u001b[38;5;241m.\u001b[39mSeries):\n",
      "\u001b[1;31mValueError\u001b[0m: Could not interpret value `Sex` for parameter `x`"
     ]
    }
   ],
   "source": [
    "dist_col = ['Sex', 'Embarked', 'Cabin_sign']\n",
    "for col in dist_col:\n",
    "    sns.displot(nominal_data, x=col, shrink=.8, color='skyblue')"
   ]
  },
  {
   "cell_type": "markdown",
   "metadata": {},
   "source": [
    "## Target"
   ]
  },
  {
   "cell_type": "code",
   "execution_count": null,
   "metadata": {},
   "outputs": [],
   "source": [
    "sns.displot(target, x='Survived', color='green', discrete=True)"
   ]
  },
  {
   "cell_type": "markdown",
   "metadata": {},
   "source": [
    "#### Pie chart"
   ]
  },
  {
   "cell_type": "code",
   "execution_count": null,
   "metadata": {},
   "outputs": [],
   "source": [
    "fig1, ax1 = plt.subplots()\n",
    "ax1.pie(target['Survived'].value_counts(), labels=target['Survived'].unique(), autopct='%1.1f%%', shadow=True, startangle=90)\n",
    "ax1.axis('equal') \n",
    "plt.show()"
   ]
  },
  {
   "cell_type": "markdown",
   "metadata": {},
   "source": [
    "### Exploring the behavior of the attributes according to the target values"
   ]
  },
  {
   "cell_type": "code",
   "execution_count": null,
   "metadata": {},
   "outputs": [],
   "source": [
    "df.groupby('Survived')['Age'].plot(kind='hist', bins=20, alpha=0.5, legend=True)\n",
    "plt.xlabel('Age')\n",
    "plt.ylabel('Frequency')\n",
    "plt.title('Age Distribution by Survival')\n",
    "plt.show()"
   ]
  },
  {
   "cell_type": "markdown",
   "metadata": {},
   "source": [
    "#### Scatter plot"
   ]
  },
  {
   "cell_type": "code",
   "execution_count": null,
   "metadata": {},
   "outputs": [],
   "source": [
    "colordict = {0: 'red', 1: 'blue'}\n",
    "\n",
    "plt.figure(figsize=(15, 6))\n",
    "plt.scatter(df.index, df['Fare'], c = df['Survived'].map(colordict))\n",
    "plt.xlabel(\"Index\")\n",
    "plt.ylabel('Fare')"
   ]
  },
  {
   "cell_type": "markdown",
   "metadata": {},
   "source": [
    "#### Boxplot graph "
   ]
  },
  {
   "cell_type": "code",
   "execution_count": null,
   "metadata": {},
   "outputs": [],
   "source": [
    "sns.set(rc={'figure.figsize':(5,8)})\n",
    "sns.boxplot(y=\"Age\", x=\"Sex\", hue= \"Survived\", data=df, palette=\"Set3\")"
   ]
  }
 ],
 "metadata": {
  "kernelspec": {
   "display_name": "base",
   "language": "python",
   "name": "python3"
  },
  "language_info": {
   "codemirror_mode": {
    "name": "ipython",
    "version": 3
   },
   "file_extension": ".py",
   "mimetype": "text/x-python",
   "name": "python",
   "nbconvert_exporter": "python",
   "pygments_lexer": "ipython3",
   "version": "3.11.5"
  }
 },
 "nbformat": 4,
 "nbformat_minor": 2
}
