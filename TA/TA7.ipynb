{
 "cells": [
  {
   "cell_type": "markdown",
   "metadata": {},
   "source": [
    "# Classification and Model Evaluation"
   ]
  },
  {
   "cell_type": "markdown",
   "metadata": {},
   "source": [
    "In this lesson, we will use cross-validation and evaluation metrics to compare two models."
   ]
  },
  {
   "cell_type": "code",
   "execution_count": 1,
   "metadata": {},
   "outputs": [
    {
     "name": "stderr",
     "output_type": "stream",
     "text": [
      "<frozen importlib._bootstrap>:219: RuntimeWarning: scipy._lib.messagestream.MessageStream size changed, may indicate binary incompatibility. Expected 56 from C header, got 64 from PyObject\n"
     ]
    }
   ],
   "source": [
    "import numpy as np\n",
    "import pandas as pd\n",
    "import matplotlib.pyplot as plt\n",
    "from sklearn.model_selection import train_test_split \n",
    "from sklearn.naive_bayes import GaussianNB \n",
    "from sklearn import metrics \n",
    "from sklearn import svm\n",
    "from sklearn.model_selection import KFold \n",
    "from scipy import stats "
   ]
  },
  {
   "cell_type": "code",
   "execution_count": 2,
   "metadata": {},
   "outputs": [
    {
     "data": {
      "text/html": [
       "<div>\n",
       "<style scoped>\n",
       "    .dataframe tbody tr th:only-of-type {\n",
       "        vertical-align: middle;\n",
       "    }\n",
       "\n",
       "    .dataframe tbody tr th {\n",
       "        vertical-align: top;\n",
       "    }\n",
       "\n",
       "    .dataframe thead th {\n",
       "        text-align: right;\n",
       "    }\n",
       "</style>\n",
       "<table border=\"1\" class=\"dataframe\">\n",
       "  <thead>\n",
       "    <tr style=\"text-align: right;\">\n",
       "      <th></th>\n",
       "      <th>Survived</th>\n",
       "      <th>Pclass</th>\n",
       "      <th>SibSp</th>\n",
       "      <th>Parch</th>\n",
       "      <th>Sex_cat</th>\n",
       "      <th>Embarked_cat</th>\n",
       "      <th>Title_cat</th>\n",
       "      <th>Is_Alone</th>\n",
       "      <th>Fare_min_max</th>\n",
       "      <th>Age_norm</th>\n",
       "    </tr>\n",
       "  </thead>\n",
       "  <tbody>\n",
       "    <tr>\n",
       "      <th>0</th>\n",
       "      <td>0</td>\n",
       "      <td>3</td>\n",
       "      <td>1</td>\n",
       "      <td>0</td>\n",
       "      <td>1</td>\n",
       "      <td>2</td>\n",
       "      <td>2</td>\n",
       "      <td>0</td>\n",
       "      <td>0.014151</td>\n",
       "      <td>-0.517838</td>\n",
       "    </tr>\n",
       "    <tr>\n",
       "      <th>1</th>\n",
       "      <td>1</td>\n",
       "      <td>1</td>\n",
       "      <td>1</td>\n",
       "      <td>0</td>\n",
       "      <td>0</td>\n",
       "      <td>0</td>\n",
       "      <td>3</td>\n",
       "      <td>0</td>\n",
       "      <td>0.139129</td>\n",
       "      <td>0.615799</td>\n",
       "    </tr>\n",
       "    <tr>\n",
       "      <th>2</th>\n",
       "      <td>1</td>\n",
       "      <td>3</td>\n",
       "      <td>0</td>\n",
       "      <td>0</td>\n",
       "      <td>0</td>\n",
       "      <td>2</td>\n",
       "      <td>1</td>\n",
       "      <td>1</td>\n",
       "      <td>0.015478</td>\n",
       "      <td>-0.234429</td>\n",
       "    </tr>\n",
       "    <tr>\n",
       "      <th>3</th>\n",
       "      <td>1</td>\n",
       "      <td>1</td>\n",
       "      <td>1</td>\n",
       "      <td>0</td>\n",
       "      <td>0</td>\n",
       "      <td>2</td>\n",
       "      <td>3</td>\n",
       "      <td>0</td>\n",
       "      <td>0.103644</td>\n",
       "      <td>0.403242</td>\n",
       "    </tr>\n",
       "    <tr>\n",
       "      <th>4</th>\n",
       "      <td>0</td>\n",
       "      <td>3</td>\n",
       "      <td>0</td>\n",
       "      <td>0</td>\n",
       "      <td>1</td>\n",
       "      <td>2</td>\n",
       "      <td>2</td>\n",
       "      <td>1</td>\n",
       "      <td>0.015713</td>\n",
       "      <td>0.403242</td>\n",
       "    </tr>\n",
       "  </tbody>\n",
       "</table>\n",
       "</div>"
      ],
      "text/plain": [
       "   Survived  Pclass  SibSp  Parch  Sex_cat  Embarked_cat  Title_cat  Is_Alone  \\\n",
       "0         0       3      1      0        1             2          2         0   \n",
       "1         1       1      1      0        0             0          3         0   \n",
       "2         1       3      0      0        0             2          1         1   \n",
       "3         1       1      1      0        0             2          3         0   \n",
       "4         0       3      0      0        1             2          2         1   \n",
       "\n",
       "   Fare_min_max  Age_norm  \n",
       "0      0.014151 -0.517838  \n",
       "1      0.139129  0.615799  \n",
       "2      0.015478 -0.234429  \n",
       "3      0.103644  0.403242  \n",
       "4      0.015713  0.403242  "
      ]
     },
     "execution_count": 2,
     "metadata": {},
     "output_type": "execute_result"
    }
   ],
   "source": [
    "df = pd.read_csv(\"./data-tergul7/Titanic_final.csv\", index_col=0)\n",
    "df.head()"
   ]
  },
  {
   "cell_type": "code",
   "execution_count": 3,
   "metadata": {},
   "outputs": [],
   "source": [
    "X = df.drop(['Survived'], axis=1)\n",
    "y = df['Survived']\n",
    "X_train, X_test, y_train, y_test = train_test_split(X, y, test_size=0.25, random_state=42) "
   ]
  },
  {
   "cell_type": "markdown",
   "metadata": {},
   "source": [
    "### SVM classifier.\n",
    "The algorithm classifies data by finding an optimal line or hyperplane that maximizes the distance between each class in an N-dimensional space. <br>\n",
    "Hyperparameter:\n",
    "- C: Regularization, a smaller value of C creates a small-margin hyperplane and a larger value of C creates a larger-margin hyperplane.\n",
    "- Kernel: The function that used to transform the original training data into a higher dimension."
   ]
  },
  {
   "cell_type": "code",
   "execution_count": 4,
   "metadata": {
    "scrolled": true
   },
   "outputs": [
    {
     "name": "stdout",
     "output_type": "stream",
     "text": [
      "     0   1\n",
      "0  119  15\n",
      "1   22  67\n",
      "              precision    recall  f1-score   support\n",
      "\n",
      "           0       0.84      0.89      0.87       134\n",
      "           1       0.82      0.75      0.78        89\n",
      "\n",
      "    accuracy                           0.83       223\n",
      "   macro avg       0.83      0.82      0.82       223\n",
      "weighted avg       0.83      0.83      0.83       223\n",
      "\n"
     ]
    }
   ],
   "source": [
    "clf_a = svm.SVC(kernel='rbf', C=0.9, probability=True)\n",
    "clf_a.fit(X_train, y_train)\n",
    "y_pred = clf_a.predict(X_test)\n",
    "print(pd.DataFrame(metrics.confusion_matrix(y_test, y_pred)))\n",
    "print(metrics.classification_report(y_test,y_pred))"
   ]
  },
  {
   "cell_type": "markdown",
   "metadata": {},
   "source": [
    "- nmacro average: averaging the unweighted mean per label <br>\n",
    "- weighted average: averaging the support-weighted mean per label"
   ]
  },
  {
   "cell_type": "markdown",
   "metadata": {},
   "source": [
    "### ROC curve"
   ]
  },
  {
   "cell_type": "code",
   "execution_count": 5,
   "metadata": {},
   "outputs": [
    {
     "data": {
      "image/png": "[encoded data removed]",
      "text/plain": [
       "<Figure size 640x480 with 1 Axes>"
      ]
     },
     "metadata": {},
     "output_type": "display_data"
    }
   ],
   "source": [
    "y_probs_a = clf_a.predict_proba(X_test) # probability prediction\n",
    "fpr_a, tpr_a, threshold = metrics.roc_curve(y_test, y_probs_a[:,1])\n",
    "auc_a = metrics.auc(fpr_a, tpr_a)\n",
    "plt.figure()\n",
    "plt.plot(fpr_a, tpr_a, color='darkorange', label='ROC curve (area = %0.2f)' %  auc_a)\n",
    "plt.plot([0, 1], [0, 1], color='navy', lw=2, linestyle='--')\n",
    "plt.xlabel('False Positive Rate  (1-Specificity)')\n",
    "plt.ylabel('True Positive Rate (Sensitivity)')\n",
    "plt.legend(loc=\"lower right\")\n",
    "plt.show()"
   ]
  },
  {
   "cell_type": "code",
   "execution_count": 6,
   "metadata": {
    "scrolled": true
   },
   "outputs": [],
   "source": [
    "roc = pd.DataFrame({'fpr': fpr_a, 'tpr': tpr_a, 't': threshold})"
   ]
  },
  {
   "cell_type": "code",
   "execution_count": 7,
   "metadata": {
    "scrolled": true
   },
   "outputs": [
    {
     "data": {
      "text/html": [
       "<div>\n",
       "<style scoped>\n",
       "    .dataframe tbody tr th:only-of-type {\n",
       "        vertical-align: middle;\n",
       "    }\n",
       "\n",
       "    .dataframe tbody tr th {\n",
       "        vertical-align: top;\n",
       "    }\n",
       "\n",
       "    .dataframe thead th {\n",
       "        text-align: right;\n",
       "    }\n",
       "</style>\n",
       "<table border=\"1\" class=\"dataframe\">\n",
       "  <thead>\n",
       "    <tr style=\"text-align: right;\">\n",
       "      <th></th>\n",
       "      <th>fpr</th>\n",
       "      <th>tpr</th>\n",
       "      <th>t</th>\n",
       "    </tr>\n",
       "  </thead>\n",
       "  <tbody>\n",
       "    <tr>\n",
       "      <th>0</th>\n",
       "      <td>0.000000</td>\n",
       "      <td>0.000000</td>\n",
       "      <td>inf</td>\n",
       "    </tr>\n",
       "    <tr>\n",
       "      <th>1</th>\n",
       "      <td>0.000000</td>\n",
       "      <td>0.011236</td>\n",
       "      <td>0.889565</td>\n",
       "    </tr>\n",
       "    <tr>\n",
       "      <th>2</th>\n",
       "      <td>0.000000</td>\n",
       "      <td>0.123596</td>\n",
       "      <td>0.864349</td>\n",
       "    </tr>\n",
       "    <tr>\n",
       "      <th>3</th>\n",
       "      <td>0.007463</td>\n",
       "      <td>0.123596</td>\n",
       "      <td>0.864091</td>\n",
       "    </tr>\n",
       "    <tr>\n",
       "      <th>4</th>\n",
       "      <td>0.007463</td>\n",
       "      <td>0.292135</td>\n",
       "      <td>0.852212</td>\n",
       "    </tr>\n",
       "    <tr>\n",
       "      <th>5</th>\n",
       "      <td>0.014925</td>\n",
       "      <td>0.292135</td>\n",
       "      <td>0.851746</td>\n",
       "    </tr>\n",
       "    <tr>\n",
       "      <th>6</th>\n",
       "      <td>0.014925</td>\n",
       "      <td>0.325843</td>\n",
       "      <td>0.847645</td>\n",
       "    </tr>\n",
       "    <tr>\n",
       "      <th>7</th>\n",
       "      <td>0.022388</td>\n",
       "      <td>0.325843</td>\n",
       "      <td>0.846780</td>\n",
       "    </tr>\n",
       "    <tr>\n",
       "      <th>8</th>\n",
       "      <td>0.022388</td>\n",
       "      <td>0.337079</td>\n",
       "      <td>0.846293</td>\n",
       "    </tr>\n",
       "    <tr>\n",
       "      <th>9</th>\n",
       "      <td>0.029851</td>\n",
       "      <td>0.337079</td>\n",
       "      <td>0.844725</td>\n",
       "    </tr>\n",
       "  </tbody>\n",
       "</table>\n",
       "</div>"
      ],
      "text/plain": [
       "        fpr       tpr         t\n",
       "0  0.000000  0.000000       inf\n",
       "1  0.000000  0.011236  0.889565\n",
       "2  0.000000  0.123596  0.864349\n",
       "3  0.007463  0.123596  0.864091\n",
       "4  0.007463  0.292135  0.852212\n",
       "5  0.014925  0.292135  0.851746\n",
       "6  0.014925  0.325843  0.847645\n",
       "7  0.022388  0.325843  0.846780\n",
       "8  0.022388  0.337079  0.846293\n",
       "9  0.029851  0.337079  0.844725"
      ]
     },
     "execution_count": 7,
     "metadata": {},
     "output_type": "execute_result"
    }
   ],
   "source": [
    "roc.head(10)"
   ]
  },
  {
   "cell_type": "code",
   "execution_count": 8,
   "metadata": {
    "scrolled": true
   },
   "outputs": [
    {
     "data": {
      "text/html": [
       "<div>\n",
       "<style scoped>\n",
       "    .dataframe tbody tr th:only-of-type {\n",
       "        vertical-align: middle;\n",
       "    }\n",
       "\n",
       "    .dataframe tbody tr th {\n",
       "        vertical-align: top;\n",
       "    }\n",
       "\n",
       "    .dataframe thead th {\n",
       "        text-align: right;\n",
       "    }\n",
       "</style>\n",
       "<table border=\"1\" class=\"dataframe\">\n",
       "  <thead>\n",
       "    <tr style=\"text-align: right;\">\n",
       "      <th></th>\n",
       "      <th>fpr</th>\n",
       "      <th>tpr</th>\n",
       "      <th>t</th>\n",
       "    </tr>\n",
       "  </thead>\n",
       "  <tbody>\n",
       "    <tr>\n",
       "      <th>26</th>\n",
       "      <td>0.111940</td>\n",
       "      <td>0.752809</td>\n",
       "      <td>0.594262</td>\n",
       "    </tr>\n",
       "    <tr>\n",
       "      <th>27</th>\n",
       "      <td>0.134328</td>\n",
       "      <td>0.752809</td>\n",
       "      <td>0.313770</td>\n",
       "    </tr>\n",
       "    <tr>\n",
       "      <th>28</th>\n",
       "      <td>0.134328</td>\n",
       "      <td>0.764045</td>\n",
       "      <td>0.303669</td>\n",
       "    </tr>\n",
       "    <tr>\n",
       "      <th>29</th>\n",
       "      <td>0.194030</td>\n",
       "      <td>0.764045</td>\n",
       "      <td>0.225042</td>\n",
       "    </tr>\n",
       "    <tr>\n",
       "      <th>30</th>\n",
       "      <td>0.194030</td>\n",
       "      <td>0.775281</td>\n",
       "      <td>0.222866</td>\n",
       "    </tr>\n",
       "    <tr>\n",
       "      <th>31</th>\n",
       "      <td>0.201493</td>\n",
       "      <td>0.775281</td>\n",
       "      <td>0.212635</td>\n",
       "    </tr>\n",
       "    <tr>\n",
       "      <th>32</th>\n",
       "      <td>0.201493</td>\n",
       "      <td>0.786517</td>\n",
       "      <td>0.212290</td>\n",
       "    </tr>\n",
       "    <tr>\n",
       "      <th>33</th>\n",
       "      <td>0.358209</td>\n",
       "      <td>0.786517</td>\n",
       "      <td>0.152216</td>\n",
       "    </tr>\n",
       "    <tr>\n",
       "      <th>34</th>\n",
       "      <td>0.358209</td>\n",
       "      <td>0.820225</td>\n",
       "      <td>0.151550</td>\n",
       "    </tr>\n",
       "    <tr>\n",
       "      <th>35</th>\n",
       "      <td>0.365672</td>\n",
       "      <td>0.820225</td>\n",
       "      <td>0.151542</td>\n",
       "    </tr>\n",
       "  </tbody>\n",
       "</table>\n",
       "</div>"
      ],
      "text/plain": [
       "         fpr       tpr         t\n",
       "26  0.111940  0.752809  0.594262\n",
       "27  0.134328  0.752809  0.313770\n",
       "28  0.134328  0.764045  0.303669\n",
       "29  0.194030  0.764045  0.225042\n",
       "30  0.194030  0.775281  0.222866\n",
       "31  0.201493  0.775281  0.212635\n",
       "32  0.201493  0.786517  0.212290\n",
       "33  0.358209  0.786517  0.152216\n",
       "34  0.358209  0.820225  0.151550\n",
       "35  0.365672  0.820225  0.151542"
      ]
     },
     "execution_count": 8,
     "metadata": {},
     "output_type": "execute_result"
    }
   ],
   "source": [
    "roc[roc['tpr']>0.75].head(10)"
   ]
  },
  {
   "cell_type": "markdown",
   "metadata": {},
   "source": [
    "### Naive Bayes classifier \n",
    "The algorithms based on applying Bayes’ theorem with the \"naive\" assumption of conditional independence between every pair of features given the value of the class variable. "
   ]
  },
  {
   "cell_type": "code",
   "execution_count": 9,
   "metadata": {},
   "outputs": [
    {
     "data": {
      "text/html": [
       "<div>\n",
       "<style scoped>\n",
       "    .dataframe tbody tr th:only-of-type {\n",
       "        vertical-align: middle;\n",
       "    }\n",
       "\n",
       "    .dataframe tbody tr th {\n",
       "        vertical-align: top;\n",
       "    }\n",
       "\n",
       "    .dataframe thead th {\n",
       "        text-align: right;\n",
       "    }\n",
       "</style>\n",
       "<table border=\"1\" class=\"dataframe\">\n",
       "  <thead>\n",
       "    <tr style=\"text-align: right;\">\n",
       "      <th></th>\n",
       "      <th>0</th>\n",
       "      <th>1</th>\n",
       "    </tr>\n",
       "  </thead>\n",
       "  <tbody>\n",
       "    <tr>\n",
       "      <th>0</th>\n",
       "      <td>104</td>\n",
       "      <td>30</td>\n",
       "    </tr>\n",
       "    <tr>\n",
       "      <th>1</th>\n",
       "      <td>19</td>\n",
       "      <td>70</td>\n",
       "    </tr>\n",
       "  </tbody>\n",
       "</table>\n",
       "</div>"
      ],
      "text/plain": [
       "     0   1\n",
       "0  104  30\n",
       "1   19  70"
      ]
     },
     "metadata": {},
     "output_type": "display_data"
    },
    {
     "name": "stdout",
     "output_type": "stream",
     "text": [
      "              precision    recall  f1-score   support\n",
      "\n",
      "           0       0.85      0.78      0.81       134\n",
      "           1       0.70      0.79      0.74        89\n",
      "\n",
      "    accuracy                           0.78       223\n",
      "   macro avg       0.77      0.78      0.78       223\n",
      "weighted avg       0.79      0.78      0.78       223\n",
      "\n"
     ]
    }
   ],
   "source": [
    "clf_b = GaussianNB()\n",
    "clf_b.fit(X_train, y_train)\n",
    "y_pred = clf_b.predict(X_test)\n",
    "display(pd.DataFrame(metrics.confusion_matrix(y_test, y_pred)))\n",
    "print(metrics.classification_report(y_test,y_pred))"
   ]
  },
  {
   "cell_type": "markdown",
   "metadata": {},
   "source": [
    "### ROC curve"
   ]
  },
  {
   "cell_type": "code",
   "execution_count": 10,
   "metadata": {},
   "outputs": [
    {
     "data": {
      "image/png": "[encoded data removed]",
      "text/plain": [
       "<Figure size 640x480 with 1 Axes>"
      ]
     },
     "metadata": {},
     "output_type": "display_data"
    }
   ],
   "source": [
    "y_probs_b = clf_b.predict_proba(X_test) # probability prediction\n",
    "fpr_b, tpr_b, _ = metrics.roc_curve(y_test, y_probs_b[:,1])\n",
    "auc_b = metrics.auc(fpr_b, tpr_b)\n",
    "plt.figure()\n",
    "plt.plot(fpr_b, tpr_b, color='darkorange', label='ROC curve (area = %0.2f)' %  auc_b)\n",
    "plt.plot([0, 1], [0, 1], color='navy', linestyle='--')\n",
    "plt.xlabel('False Positive Rate  (1-Specificity)')\n",
    "plt.ylabel('True Positive Rate (Sensitivity)')\n",
    "plt.legend(loc=\"lower right\")\n",
    "plt.show()"
   ]
  },
  {
   "cell_type": "markdown",
   "metadata": {},
   "source": [
    "## ROC curve comparison"
   ]
  },
  {
   "cell_type": "code",
   "execution_count": 11,
   "metadata": {},
   "outputs": [
    {
     "data": {
      "image/png": "[encoded data removed]",
      "text/plain": [
       "<Figure size 640x480 with 1 Axes>"
      ]
     },
     "metadata": {},
     "output_type": "display_data"
    }
   ],
   "source": [
    "plt.figure()\n",
    "plt.plot(fpr_a, tpr_a, color='darkorange', label='SVM, ROC curve (area = %0.2f)' %  auc_a)\n",
    "plt.plot(fpr_b, tpr_b, color='red', label='Naive Bayes, ROC curve (area = %0.2f)' %  auc_b)\n",
    "plt.plot([0, 1], [0, 1], color='navy', linestyle='--')\n",
    "plt.xlabel('False Positive Rate')\n",
    "plt.ylabel('True Positive Rate')\n",
    "plt.legend(loc=\"lower right\")\n",
    "plt.show()"
   ]
  },
  {
   "cell_type": "markdown",
   "metadata": {},
   "source": [
    "## Model evaluation\n",
    "\n",
    "Confusion matrix: \n",
    "\n",
    "|  | predicted negative | predicted positive |\n",
    "|:--- | :---: | :---: |\n",
    "| actual negative | TN | FP|\n",
    "| actual positive | FN | TP|\n",
    "\n",
    "- Sensitivity = Recall =  $ \\frac{TP}{TP+FN} $ \n",
    "- Specificity = $ \\frac{TN}{TN +FP} $\n",
    "- Precision = $ \\frac{TP}{TP+FP}$ \n",
    "- f1-score = $ \\frac{2*precision*recall}{precision+recall}$\n",
    "\n",
    "#### What is the evaluation metric we should use in this problem?"
   ]
  },
  {
   "cell_type": "markdown",
   "metadata": {},
   "source": [
    "### Comparison between two classifiers:"
   ]
  },
  {
   "cell_type": "code",
   "execution_count": 12,
   "metadata": {
    "scrolled": false
   },
   "outputs": [
    {
     "name": "stdout",
     "output_type": "stream",
     "text": [
      "------ 1 ------\n",
      "Classifier:  SVC(C=0.9, probability=True)\n",
      "AUC  0.8878600823045267\n",
      "Accuracy:  0.8444444444444444\n",
      "Classifier:  GaussianNB()\n",
      "AUC  0.8786008230452674\n",
      "Accuracy:  0.7888888888888889\n",
      "------ 2 ------\n",
      "Classifier:  SVC(C=0.9, probability=True)\n",
      "AUC  0.8596491228070176\n",
      "Accuracy:  0.8089887640449438\n",
      "Classifier:  GaussianNB()\n",
      "AUC  0.8374613003095975\n",
      "Accuracy:  0.7752808988764045\n",
      "------ 3 ------\n",
      "Classifier:  SVC(C=0.9, probability=True)\n",
      "AUC  0.8721413721413722\n",
      "Accuracy:  0.8539325842696629\n",
      "Classifier:  GaussianNB()\n",
      "AUC  0.852910602910603\n",
      "Accuracy:  0.8202247191011236\n",
      "------ 4 ------\n",
      "Classifier:  SVC(C=0.9, probability=True)\n",
      "AUC  0.7994350282485876\n",
      "Accuracy:  0.797752808988764\n",
      "Classifier:  GaussianNB()\n",
      "AUC  0.793220338983051\n",
      "Accuracy:  0.7865168539325843\n",
      "------ 5 ------\n",
      "Classifier:  SVC(C=0.9, probability=True)\n",
      "AUC  0.8673890608875129\n",
      "Accuracy:  0.8764044943820225\n",
      "Classifier:  GaussianNB()\n",
      "AUC  0.8581011351909186\n",
      "Accuracy:  0.8314606741573034\n",
      "------ 6 ------\n",
      "Classifier:  SVC(C=0.9, probability=True)\n",
      "AUC  0.9015899122807017\n",
      "Accuracy:  0.8651685393258427\n",
      "Classifier:  GaussianNB()\n",
      "AUC  0.8662280701754387\n",
      "Accuracy:  0.8426966292134831\n",
      "------ 7 ------\n",
      "Classifier:  SVC(C=0.9, probability=True)\n",
      "AUC  0.7746212121212122\n",
      "Accuracy:  0.7865168539325843\n",
      "Classifier:  GaussianNB()\n",
      "AUC  0.824404761904762\n",
      "Accuracy:  0.7752808988764045\n",
      "------ 8 ------\n",
      "Classifier:  SVC(C=0.9, probability=True)\n",
      "AUC  0.817099567099567\n",
      "Accuracy:  0.797752808988764\n",
      "Classifier:  GaussianNB()\n",
      "AUC  0.7867965367965368\n",
      "Accuracy:  0.7640449438202247\n",
      "------ 9 ------\n",
      "Classifier:  SVC(C=0.9, probability=True)\n",
      "AUC  0.8244897959183674\n",
      "Accuracy:  0.7752808988764045\n",
      "Classifier:  GaussianNB()\n",
      "AUC  0.8086734693877551\n",
      "Accuracy:  0.7528089887640449\n",
      "------ 10 ------\n",
      "Classifier:  SVC(C=0.9, probability=True)\n",
      "AUC  0.8931250000000001\n",
      "Accuracy:  0.8876404494382022\n",
      "Classifier:  GaussianNB()\n",
      "AUC  0.92125\n",
      "Accuracy:  0.8764044943820225\n"
     ]
    }
   ],
   "source": [
    "clf_list = [clf_a,clf_b]\n",
    "result_dict ={}\n",
    "cm_dict, auc_dict = {}, {}\n",
    "X = X.to_numpy()\n",
    "kf = KFold(n_splits=10, shuffle=True, random_state=42) #for cross validation\n",
    "k = 0\n",
    "for train_index, test_index in kf.split(X):\n",
    "    k+=1\n",
    "    print(\"------\",k,\"------\")\n",
    "    # split to train and test\n",
    "    X_train, X_test = X[train_index], X[test_index]\n",
    "    y_train, y_test = y[train_index], y[test_index]\n",
    "    for clf in clf_list:\n",
    "        # train the model and make a prediction\n",
    "        clf.fit(X_train,y_train)\n",
    "        y_pred = clf.predict(X_test)\n",
    "        accuracy = metrics.accuracy_score(y_test, y_pred)\n",
    "        precision = metrics.precision_score(y_test,y_pred)\n",
    "        y_probs = clf.predict_proba(X_test) # probability prediction\n",
    "        fpr, tpr, _ = metrics.roc_curve(y_test, y_probs[:,1])\n",
    "        auc = metrics.auc(fpr, tpr)\n",
    "        # save the results\n",
    "        clf_dict = result_dict.get(clf, {})\n",
    "        accuracy_list = clf_dict.get('accuracy',[])\n",
    "        accuracy_list.append(accuracy)\n",
    "        clf_dict['accuracy'] = accuracy_list\n",
    "        precision_list = clf_dict.get('precision',[])\n",
    "        precision_list.append(precision)\n",
    "        clf_dict['precision'] = precision_list\n",
    "        auc_list = clf_dict.get('auc',[])\n",
    "        auc_list.append(auc)\n",
    "        clf_dict['auc'] = auc_list\n",
    "        result_dict[clf] = clf_dict\n",
    "#         auc_list = auc_dict.get(clf,[])\n",
    "#         auc_list.append(auc)\n",
    "#         auc_dict[clf] = auc_list\n",
    "        # print the results\n",
    "        print(\"Classifier: \", clf)\n",
    "        print(\"AUC \" ,auc)\n",
    "        print(\"Accuracy: \", metrics.accuracy_score(y_test, y_pred))"
   ]
  },
  {
   "cell_type": "markdown",
   "metadata": {},
   "source": [
    "### Print average results:"
   ]
  },
  {
   "cell_type": "code",
   "execution_count": 13,
   "metadata": {},
   "outputs": [
    {
     "name": "stdout",
     "output_type": "stream",
     "text": [
      "SVC(C=0.9, probability=True)\n",
      "mean accuracy:  0.8293882646691635\n",
      "mean precision:  0.8099864286251982\n",
      "mean auc:  0.8497400153808865\n",
      "GaussianNB()\n",
      "mean accuracy:  0.8013607990012485\n",
      "mean precision:  0.7230877171614232\n",
      "mean auc:  0.8427647038703929\n"
     ]
    }
   ],
   "source": [
    "for clf in clf_list:\n",
    "    print(clf)\n",
    "    accuracy_list = result_dict[clf]['accuracy']\n",
    "    print(\"mean accuracy: \", np.mean(accuracy_list))\n",
    "    precision_list = result_dict[clf]['precision']\n",
    "    print(\"mean precision: \", np.mean(precision_list))\n",
    "    auc_list = result_dict[clf]['auc']\n",
    "    print(\"mean auc: \", np.mean(auc_list))"
   ]
  },
  {
   "cell_type": "markdown",
   "metadata": {},
   "source": [
    "### Statistical Significance Tests\n",
    "Two-sided test for the null hypothesis that two related or repeated samples have identical average (expected) values."
   ]
  },
  {
   "cell_type": "code",
   "execution_count": 14,
   "metadata": {},
   "outputs": [
    {
     "name": "stdout",
     "output_type": "stream",
     "text": [
      "p-value: 3.592151066850198e-06\n",
      "reject null hypothesis\n"
     ]
    }
   ],
   "source": [
    "ttest,pval = stats.ttest_rel(result_dict[clf_a]['precision'], result_dict[clf_b]['precision'])\n",
    "print(\"p-value:\" , pval)\n",
    "if pval<0.05:\n",
    "    print(\"reject null hypothesis\")\n",
    "else:\n",
    "    print(\"accept null hypothesis\")"
   ]
  },
  {
   "cell_type": "code",
   "execution_count": 15,
   "metadata": {},
   "outputs": [
    {
     "name": "stdout",
     "output_type": "stream",
     "text": [
      "p-value: 0.00023631157612405545\n",
      "reject null hypothesis\n"
     ]
    }
   ],
   "source": [
    "ttest,pval = stats.ttest_rel(result_dict[clf_a]['accuracy'], result_dict[clf_b]['accuracy'])\n",
    "print(\"p-value:\" , pval)\n",
    "if pval<0.05:\n",
    "    print(\"reject null hypothesis\")\n",
    "else:\n",
    "    print(\"accept null hypothesis\")"
   ]
  },
  {
   "cell_type": "code",
   "execution_count": 16,
   "metadata": {},
   "outputs": [
    {
     "name": "stdout",
     "output_type": "stream",
     "text": [
      "p-value: 0.42511281086451247\n",
      "accept null hypothesis\n"
     ]
    }
   ],
   "source": [
    "ttest,pval = stats.ttest_rel(result_dict[clf_a]['auc'], result_dict[clf_b]['auc'])\n",
    "print(\"p-value:\" , pval)\n",
    "if pval<0.05:\n",
    "    print(\"reject null hypothesis\")\n",
    "else:\n",
    "    print(\"accept null hypothesis\")"
   ]
  },
  {
   "cell_type": "code",
   "execution_count": null,
   "metadata": {},
   "outputs": [],
   "source": []
  }
 ],
 "metadata": {
  "kernelspec": {
   "display_name": "Python 3",
   "language": "python",
   "name": "python3"
  },
  "language_info": {
   "codemirror_mode": {
    "name": "ipython",
    "version": 3
   },
   "file_extension": ".py",
   "mimetype": "text/x-python",
   "name": "python",
   "nbconvert_exporter": "python",
   "pygments_lexer": "ipython3",
   "version": "3.8.5"
  }
 },
 "nbformat": 4,
 "nbformat_minor": 4
}
